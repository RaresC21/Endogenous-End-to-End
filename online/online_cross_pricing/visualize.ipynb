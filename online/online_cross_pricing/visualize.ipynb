{
 "cells": [
  {
   "cell_type": "code",
   "execution_count": 4,
   "metadata": {},
   "outputs": [],
   "source": [
    "import numpy as np\n",
    "import plotly.express as px\n",
    "import pandas as pd"
   ]
  },
  {
   "cell_type": "code",
   "execution_count": 242,
   "metadata": {},
   "outputs": [],
   "source": [
    "xs = np.arange(0,1,0.01)\n",
    "def demand_f(x): \n",
    "    return (1-x)**2\n",
    "def under_demand(x): \n",
    "    return demand_f(x) - 0.25\n",
    "def over_demand(x): \n",
    "    return demand_f(x) + 0.25\n",
    "\n",
    "demands = pd.DataFrame(dict(\n",
    "    price = xs,\n",
    "    demand = demand_f(xs),\n",
    "    over_demand = over_demand(xs),\n",
    "    under_demand = under_demand(xs)\n",
    "))"
   ]
  },
  {
   "cell_type": "code",
   "execution_count": 243,
   "metadata": {},
   "outputs": [],
   "source": [
    "def set_names(fig, labels): \n",
    "    fig.for_each_trace(lambda t: t.update(name = labels[t.name],\n",
    "                        legendgroup = labels[t.name],\n",
    "                        hovertemplate = t.hovertemplate.replace(t.name, labels[t.name])\n",
    "                        ))"
   ]
  },
  {
   "cell_type": "code",
   "execution_count": 252,
   "metadata": {},
   "outputs": [
    {
     "data": {
      "application/vnd.plotly.v1+json": {
       "config": {
        "plotlyServerURL": "https://plot.ly"
       },
       "data": [
        {
         "hovertemplate": "variable=ground truth<br>price=%{x}<br>value=%{y}<extra></extra>",
         "legendgroup": "ground truth",
         "line": {
          "color": "#636efa",
          "dash": "solid"
         },
         "marker": {
          "symbol": "circle"
         },
         "mode": "lines",
         "name": "ground truth",
         "orientation": "v",
         "showlegend": true,
         "type": "scatter",
         "x": [
          0,
          0.01,
          0.02,
          0.03,
          0.04,
          0.05,
          0.06,
          0.07,
          0.08,
          0.09,
          0.1,
          0.11,
          0.12,
          0.13,
          0.14,
          0.15,
          0.16,
          0.17,
          0.18,
          0.19,
          0.2,
          0.21,
          0.22,
          0.23,
          0.24,
          0.25,
          0.26,
          0.27,
          0.28,
          0.29,
          0.3,
          0.31,
          0.32,
          0.33,
          0.34,
          0.35000000000000003,
          0.36,
          0.37,
          0.38,
          0.39,
          0.4,
          0.41000000000000003,
          0.42,
          0.43,
          0.44,
          0.45,
          0.46,
          0.47000000000000003,
          0.48,
          0.49,
          0.5,
          0.51,
          0.52,
          0.53,
          0.54,
          0.55,
          0.56,
          0.5700000000000001,
          0.58,
          0.59,
          0.6,
          0.61,
          0.62,
          0.63,
          0.64,
          0.65,
          0.66,
          0.67,
          0.68,
          0.6900000000000001,
          0.7000000000000001,
          0.71,
          0.72,
          0.73,
          0.74,
          0.75,
          0.76,
          0.77,
          0.78,
          0.79,
          0.8,
          0.81,
          0.8200000000000001,
          0.8300000000000001,
          0.84,
          0.85,
          0.86,
          0.87,
          0.88,
          0.89,
          0.9,
          0.91,
          0.92,
          0.93,
          0.9400000000000001,
          0.9500000000000001,
          0.96,
          0.97,
          0.98,
          0.99
         ],
         "xaxis": "x",
         "y": [
          1,
          0.9801,
          0.9603999999999999,
          0.9409,
          0.9216,
          0.9025,
          0.8835999999999999,
          0.8648999999999999,
          0.8464,
          0.8281000000000001,
          0.81,
          0.7921,
          0.7744,
          0.7569,
          0.7395999999999999,
          0.7224999999999999,
          0.7055999999999999,
          0.6889,
          0.6724000000000001,
          0.6561000000000001,
          0.6400000000000001,
          0.6241000000000001,
          0.6084,
          0.5929,
          0.5776,
          0.5625,
          0.5476,
          0.5328999999999999,
          0.5184,
          0.5041,
          0.48999999999999994,
          0.4760999999999999,
          0.4623999999999999,
          0.4488999999999999,
          0.4355999999999999,
          0.4224999999999999,
          0.4096,
          0.39690000000000003,
          0.3844,
          0.3721,
          0.36,
          0.34809999999999997,
          0.3364000000000001,
          0.3249000000000001,
          0.31360000000000005,
          0.30250000000000005,
          0.2916,
          0.28090000000000004,
          0.27040000000000003,
          0.2601,
          0.25,
          0.24009999999999998,
          0.2304,
          0.22089999999999999,
          0.21159999999999995,
          0.20249999999999996,
          0.19359999999999997,
          0.18489999999999995,
          0.17640000000000003,
          0.16810000000000003,
          0.16000000000000003,
          0.1521,
          0.1444,
          0.1369,
          0.1296,
          0.12249999999999998,
          0.11559999999999998,
          0.10889999999999997,
          0.10239999999999996,
          0.09609999999999996,
          0.08999999999999996,
          0.08410000000000002,
          0.07840000000000001,
          0.0729,
          0.06760000000000001,
          0.0625,
          0.0576,
          0.05289999999999999,
          0.04839999999999999,
          0.044099999999999986,
          0.03999999999999998,
          0.03609999999999998,
          0.03239999999999998,
          0.028899999999999974,
          0.02560000000000001,
          0.022500000000000006,
          0.019600000000000003,
          0.016900000000000002,
          0.0144,
          0.012099999999999998,
          0.009999999999999995,
          0.008099999999999994,
          0.006399999999999993,
          0.004899999999999993,
          0.003599999999999993,
          0.0024999999999999935,
          0.001600000000000003,
          0.0009000000000000016,
          0.0004000000000000007,
          0.00010000000000000018
         ],
         "yaxis": "y"
        },
        {
         "hovertemplate": "variable=over approximation<br>price=%{x}<br>value=%{y}<extra></extra>",
         "legendgroup": "over approximation",
         "line": {
          "color": "#EF553B",
          "dash": "solid"
         },
         "marker": {
          "symbol": "circle"
         },
         "mode": "lines",
         "name": "over approximation",
         "orientation": "v",
         "showlegend": true,
         "type": "scatter",
         "x": [
          0,
          0.01,
          0.02,
          0.03,
          0.04,
          0.05,
          0.06,
          0.07,
          0.08,
          0.09,
          0.1,
          0.11,
          0.12,
          0.13,
          0.14,
          0.15,
          0.16,
          0.17,
          0.18,
          0.19,
          0.2,
          0.21,
          0.22,
          0.23,
          0.24,
          0.25,
          0.26,
          0.27,
          0.28,
          0.29,
          0.3,
          0.31,
          0.32,
          0.33,
          0.34,
          0.35000000000000003,
          0.36,
          0.37,
          0.38,
          0.39,
          0.4,
          0.41000000000000003,
          0.42,
          0.43,
          0.44,
          0.45,
          0.46,
          0.47000000000000003,
          0.48,
          0.49,
          0.5,
          0.51,
          0.52,
          0.53,
          0.54,
          0.55,
          0.56,
          0.5700000000000001,
          0.58,
          0.59,
          0.6,
          0.61,
          0.62,
          0.63,
          0.64,
          0.65,
          0.66,
          0.67,
          0.68,
          0.6900000000000001,
          0.7000000000000001,
          0.71,
          0.72,
          0.73,
          0.74,
          0.75,
          0.76,
          0.77,
          0.78,
          0.79,
          0.8,
          0.81,
          0.8200000000000001,
          0.8300000000000001,
          0.84,
          0.85,
          0.86,
          0.87,
          0.88,
          0.89,
          0.9,
          0.91,
          0.92,
          0.93,
          0.9400000000000001,
          0.9500000000000001,
          0.96,
          0.97,
          0.98,
          0.99
         ],
         "xaxis": "x",
         "y": [
          1.25,
          1.2301,
          1.2104,
          1.1909,
          1.1716,
          1.1524999999999999,
          1.1336,
          1.1149,
          1.0964,
          1.0781,
          1.06,
          1.0421,
          1.0244,
          1.0069,
          0.9895999999999999,
          0.9724999999999999,
          0.9555999999999999,
          0.9389,
          0.9224000000000001,
          0.9061000000000001,
          0.8900000000000001,
          0.8741000000000001,
          0.8584,
          0.8429,
          0.8276,
          0.8125,
          0.7976,
          0.7828999999999999,
          0.7684,
          0.7541,
          0.74,
          0.7261,
          0.7123999999999999,
          0.6988999999999999,
          0.6855999999999999,
          0.6724999999999999,
          0.6596,
          0.6469,
          0.6344000000000001,
          0.6221,
          0.61,
          0.5981,
          0.5864,
          0.5749000000000001,
          0.5636000000000001,
          0.5525,
          0.5416000000000001,
          0.5309,
          0.5204,
          0.5101,
          0.5,
          0.4901,
          0.4804,
          0.4709,
          0.46159999999999995,
          0.45249999999999996,
          0.4436,
          0.43489999999999995,
          0.4264,
          0.4181,
          0.41000000000000003,
          0.4021,
          0.3944,
          0.3869,
          0.3796,
          0.3725,
          0.3656,
          0.3589,
          0.35239999999999994,
          0.34609999999999996,
          0.33999999999999997,
          0.3341,
          0.3284,
          0.3229,
          0.3176,
          0.3125,
          0.3076,
          0.3029,
          0.2984,
          0.2941,
          0.29,
          0.28609999999999997,
          0.2824,
          0.2789,
          0.2756,
          0.2725,
          0.2696,
          0.2669,
          0.2644,
          0.2621,
          0.26,
          0.2581,
          0.2564,
          0.2549,
          0.2536,
          0.2525,
          0.2516,
          0.2509,
          0.2504,
          0.2501
         ],
         "yaxis": "y"
        },
        {
         "hovertemplate": "variable=under approximation<br>price=%{x}<br>value=%{y}<extra></extra>",
         "legendgroup": "under approximation",
         "line": {
          "color": "#00cc96",
          "dash": "solid"
         },
         "marker": {
          "symbol": "circle"
         },
         "mode": "lines",
         "name": "under approximation",
         "orientation": "v",
         "showlegend": true,
         "type": "scatter",
         "x": [
          0,
          0.01,
          0.02,
          0.03,
          0.04,
          0.05,
          0.06,
          0.07,
          0.08,
          0.09,
          0.1,
          0.11,
          0.12,
          0.13,
          0.14,
          0.15,
          0.16,
          0.17,
          0.18,
          0.19,
          0.2,
          0.21,
          0.22,
          0.23,
          0.24,
          0.25,
          0.26,
          0.27,
          0.28,
          0.29,
          0.3,
          0.31,
          0.32,
          0.33,
          0.34,
          0.35000000000000003,
          0.36,
          0.37,
          0.38,
          0.39,
          0.4,
          0.41000000000000003,
          0.42,
          0.43,
          0.44,
          0.45,
          0.46,
          0.47000000000000003,
          0.48,
          0.49,
          0.5,
          0.51,
          0.52,
          0.53,
          0.54,
          0.55,
          0.56,
          0.5700000000000001,
          0.58,
          0.59,
          0.6,
          0.61,
          0.62,
          0.63,
          0.64,
          0.65,
          0.66,
          0.67,
          0.68,
          0.6900000000000001,
          0.7000000000000001,
          0.71,
          0.72,
          0.73,
          0.74,
          0.75,
          0.76,
          0.77,
          0.78,
          0.79,
          0.8,
          0.81,
          0.8200000000000001,
          0.8300000000000001,
          0.84,
          0.85,
          0.86,
          0.87,
          0.88,
          0.89,
          0.9,
          0.91,
          0.92,
          0.93,
          0.9400000000000001,
          0.9500000000000001,
          0.96,
          0.97,
          0.98,
          0.99
         ],
         "xaxis": "x",
         "y": [
          0.75,
          0.7301,
          0.7103999999999999,
          0.6909,
          0.6716,
          0.6525,
          0.6335999999999999,
          0.6148999999999999,
          0.5964,
          0.5781000000000001,
          0.56,
          0.5421,
          0.5244,
          0.5069,
          0.4895999999999999,
          0.4724999999999999,
          0.4555999999999999,
          0.43889999999999996,
          0.4224000000000001,
          0.4061000000000001,
          0.3900000000000001,
          0.3741000000000001,
          0.35840000000000005,
          0.3429,
          0.3276,
          0.3125,
          0.2976,
          0.28289999999999993,
          0.26839999999999997,
          0.2541,
          0.23999999999999994,
          0.2260999999999999,
          0.21239999999999992,
          0.1988999999999999,
          0.18559999999999988,
          0.17249999999999988,
          0.15960000000000002,
          0.14690000000000003,
          0.13440000000000002,
          0.12209999999999999,
          0.10999999999999999,
          0.09809999999999997,
          0.08640000000000009,
          0.07490000000000008,
          0.06360000000000005,
          0.05250000000000005,
          0.041600000000000026,
          0.03090000000000004,
          0.02040000000000003,
          0.010099999999999998,
          0,
          -0.00990000000000002,
          -0.019600000000000006,
          -0.029100000000000015,
          -0.038400000000000045,
          -0.04750000000000004,
          -0.05640000000000003,
          -0.06510000000000005,
          -0.07359999999999997,
          -0.08189999999999997,
          -0.08999999999999997,
          -0.09789999999999999,
          -0.1056,
          -0.1131,
          -0.12040000000000001,
          -0.1275,
          -0.13440000000000002,
          -0.14110000000000003,
          -0.14760000000000004,
          -0.15390000000000004,
          -0.16000000000000003,
          -0.1659,
          -0.17159999999999997,
          -0.17709999999999998,
          -0.1824,
          -0.1875,
          -0.19240000000000002,
          -0.1971,
          -0.2016,
          -0.20590000000000003,
          -0.21000000000000002,
          -0.21390000000000003,
          -0.21760000000000002,
          -0.22110000000000002,
          -0.2244,
          -0.22749999999999998,
          -0.2304,
          -0.2331,
          -0.2356,
          -0.2379,
          -0.24,
          -0.2419,
          -0.2436,
          -0.2451,
          -0.2464,
          -0.2475,
          -0.2484,
          -0.2491,
          -0.2496,
          -0.2499
         ],
         "yaxis": "y"
        }
       ],
       "layout": {
        "font": {
         "family": "Calibri",
         "size": 24
        },
        "height": 800,
        "legend": {
         "title": {
          "text": "variable"
         },
         "tracegroupgap": 0
        },
        "template": {
         "data": {
          "bar": [
           {
            "error_x": {
             "color": "#2a3f5f"
            },
            "error_y": {
             "color": "#2a3f5f"
            },
            "marker": {
             "line": {
              "color": "#E5ECF6",
              "width": 0.5
             },
             "pattern": {
              "fillmode": "overlay",
              "size": 10,
              "solidity": 0.2
             }
            },
            "type": "bar"
           }
          ],
          "barpolar": [
           {
            "marker": {
             "line": {
              "color": "#E5ECF6",
              "width": 0.5
             },
             "pattern": {
              "fillmode": "overlay",
              "size": 10,
              "solidity": 0.2
             }
            },
            "type": "barpolar"
           }
          ],
          "carpet": [
           {
            "aaxis": {
             "endlinecolor": "#2a3f5f",
             "gridcolor": "white",
             "linecolor": "white",
             "minorgridcolor": "white",
             "startlinecolor": "#2a3f5f"
            },
            "baxis": {
             "endlinecolor": "#2a3f5f",
             "gridcolor": "white",
             "linecolor": "white",
             "minorgridcolor": "white",
             "startlinecolor": "#2a3f5f"
            },
            "type": "carpet"
           }
          ],
          "choropleth": [
           {
            "colorbar": {
             "outlinewidth": 0,
             "ticks": ""
            },
            "type": "choropleth"
           }
          ],
          "contour": [
           {
            "colorbar": {
             "outlinewidth": 0,
             "ticks": ""
            },
            "colorscale": [
             [
              0,
              "#0d0887"
             ],
             [
              0.1111111111111111,
              "#46039f"
             ],
             [
              0.2222222222222222,
              "#7201a8"
             ],
             [
              0.3333333333333333,
              "#9c179e"
             ],
             [
              0.4444444444444444,
              "#bd3786"
             ],
             [
              0.5555555555555556,
              "#d8576b"
             ],
             [
              0.6666666666666666,
              "#ed7953"
             ],
             [
              0.7777777777777778,
              "#fb9f3a"
             ],
             [
              0.8888888888888888,
              "#fdca26"
             ],
             [
              1,
              "#f0f921"
             ]
            ],
            "type": "contour"
           }
          ],
          "contourcarpet": [
           {
            "colorbar": {
             "outlinewidth": 0,
             "ticks": ""
            },
            "type": "contourcarpet"
           }
          ],
          "heatmap": [
           {
            "colorbar": {
             "outlinewidth": 0,
             "ticks": ""
            },
            "colorscale": [
             [
              0,
              "#0d0887"
             ],
             [
              0.1111111111111111,
              "#46039f"
             ],
             [
              0.2222222222222222,
              "#7201a8"
             ],
             [
              0.3333333333333333,
              "#9c179e"
             ],
             [
              0.4444444444444444,
              "#bd3786"
             ],
             [
              0.5555555555555556,
              "#d8576b"
             ],
             [
              0.6666666666666666,
              "#ed7953"
             ],
             [
              0.7777777777777778,
              "#fb9f3a"
             ],
             [
              0.8888888888888888,
              "#fdca26"
             ],
             [
              1,
              "#f0f921"
             ]
            ],
            "type": "heatmap"
           }
          ],
          "heatmapgl": [
           {
            "colorbar": {
             "outlinewidth": 0,
             "ticks": ""
            },
            "colorscale": [
             [
              0,
              "#0d0887"
             ],
             [
              0.1111111111111111,
              "#46039f"
             ],
             [
              0.2222222222222222,
              "#7201a8"
             ],
             [
              0.3333333333333333,
              "#9c179e"
             ],
             [
              0.4444444444444444,
              "#bd3786"
             ],
             [
              0.5555555555555556,
              "#d8576b"
             ],
             [
              0.6666666666666666,
              "#ed7953"
             ],
             [
              0.7777777777777778,
              "#fb9f3a"
             ],
             [
              0.8888888888888888,
              "#fdca26"
             ],
             [
              1,
              "#f0f921"
             ]
            ],
            "type": "heatmapgl"
           }
          ],
          "histogram": [
           {
            "marker": {
             "pattern": {
              "fillmode": "overlay",
              "size": 10,
              "solidity": 0.2
             }
            },
            "type": "histogram"
           }
          ],
          "histogram2d": [
           {
            "colorbar": {
             "outlinewidth": 0,
             "ticks": ""
            },
            "colorscale": [
             [
              0,
              "#0d0887"
             ],
             [
              0.1111111111111111,
              "#46039f"
             ],
             [
              0.2222222222222222,
              "#7201a8"
             ],
             [
              0.3333333333333333,
              "#9c179e"
             ],
             [
              0.4444444444444444,
              "#bd3786"
             ],
             [
              0.5555555555555556,
              "#d8576b"
             ],
             [
              0.6666666666666666,
              "#ed7953"
             ],
             [
              0.7777777777777778,
              "#fb9f3a"
             ],
             [
              0.8888888888888888,
              "#fdca26"
             ],
             [
              1,
              "#f0f921"
             ]
            ],
            "type": "histogram2d"
           }
          ],
          "histogram2dcontour": [
           {
            "colorbar": {
             "outlinewidth": 0,
             "ticks": ""
            },
            "colorscale": [
             [
              0,
              "#0d0887"
             ],
             [
              0.1111111111111111,
              "#46039f"
             ],
             [
              0.2222222222222222,
              "#7201a8"
             ],
             [
              0.3333333333333333,
              "#9c179e"
             ],
             [
              0.4444444444444444,
              "#bd3786"
             ],
             [
              0.5555555555555556,
              "#d8576b"
             ],
             [
              0.6666666666666666,
              "#ed7953"
             ],
             [
              0.7777777777777778,
              "#fb9f3a"
             ],
             [
              0.8888888888888888,
              "#fdca26"
             ],
             [
              1,
              "#f0f921"
             ]
            ],
            "type": "histogram2dcontour"
           }
          ],
          "mesh3d": [
           {
            "colorbar": {
             "outlinewidth": 0,
             "ticks": ""
            },
            "type": "mesh3d"
           }
          ],
          "parcoords": [
           {
            "line": {
             "colorbar": {
              "outlinewidth": 0,
              "ticks": ""
             }
            },
            "type": "parcoords"
           }
          ],
          "pie": [
           {
            "automargin": true,
            "type": "pie"
           }
          ],
          "scatter": [
           {
            "fillpattern": {
             "fillmode": "overlay",
             "size": 10,
             "solidity": 0.2
            },
            "type": "scatter"
           }
          ],
          "scatter3d": [
           {
            "line": {
             "colorbar": {
              "outlinewidth": 0,
              "ticks": ""
             }
            },
            "marker": {
             "colorbar": {
              "outlinewidth": 0,
              "ticks": ""
             }
            },
            "type": "scatter3d"
           }
          ],
          "scattercarpet": [
           {
            "marker": {
             "colorbar": {
              "outlinewidth": 0,
              "ticks": ""
             }
            },
            "type": "scattercarpet"
           }
          ],
          "scattergeo": [
           {
            "marker": {
             "colorbar": {
              "outlinewidth": 0,
              "ticks": ""
             }
            },
            "type": "scattergeo"
           }
          ],
          "scattergl": [
           {
            "marker": {
             "colorbar": {
              "outlinewidth": 0,
              "ticks": ""
             }
            },
            "type": "scattergl"
           }
          ],
          "scattermapbox": [
           {
            "marker": {
             "colorbar": {
              "outlinewidth": 0,
              "ticks": ""
             }
            },
            "type": "scattermapbox"
           }
          ],
          "scatterpolar": [
           {
            "marker": {
             "colorbar": {
              "outlinewidth": 0,
              "ticks": ""
             }
            },
            "type": "scatterpolar"
           }
          ],
          "scatterpolargl": [
           {
            "marker": {
             "colorbar": {
              "outlinewidth": 0,
              "ticks": ""
             }
            },
            "type": "scatterpolargl"
           }
          ],
          "scatterternary": [
           {
            "marker": {
             "colorbar": {
              "outlinewidth": 0,
              "ticks": ""
             }
            },
            "type": "scatterternary"
           }
          ],
          "surface": [
           {
            "colorbar": {
             "outlinewidth": 0,
             "ticks": ""
            },
            "colorscale": [
             [
              0,
              "#0d0887"
             ],
             [
              0.1111111111111111,
              "#46039f"
             ],
             [
              0.2222222222222222,
              "#7201a8"
             ],
             [
              0.3333333333333333,
              "#9c179e"
             ],
             [
              0.4444444444444444,
              "#bd3786"
             ],
             [
              0.5555555555555556,
              "#d8576b"
             ],
             [
              0.6666666666666666,
              "#ed7953"
             ],
             [
              0.7777777777777778,
              "#fb9f3a"
             ],
             [
              0.8888888888888888,
              "#fdca26"
             ],
             [
              1,
              "#f0f921"
             ]
            ],
            "type": "surface"
           }
          ],
          "table": [
           {
            "cells": {
             "fill": {
              "color": "#EBF0F8"
             },
             "line": {
              "color": "white"
             }
            },
            "header": {
             "fill": {
              "color": "#C8D4E3"
             },
             "line": {
              "color": "white"
             }
            },
            "type": "table"
           }
          ]
         },
         "layout": {
          "annotationdefaults": {
           "arrowcolor": "#2a3f5f",
           "arrowhead": 0,
           "arrowwidth": 1
          },
          "autotypenumbers": "strict",
          "coloraxis": {
           "colorbar": {
            "outlinewidth": 0,
            "ticks": ""
           }
          },
          "colorscale": {
           "diverging": [
            [
             0,
             "#8e0152"
            ],
            [
             0.1,
             "#c51b7d"
            ],
            [
             0.2,
             "#de77ae"
            ],
            [
             0.3,
             "#f1b6da"
            ],
            [
             0.4,
             "#fde0ef"
            ],
            [
             0.5,
             "#f7f7f7"
            ],
            [
             0.6,
             "#e6f5d0"
            ],
            [
             0.7,
             "#b8e186"
            ],
            [
             0.8,
             "#7fbc41"
            ],
            [
             0.9,
             "#4d9221"
            ],
            [
             1,
             "#276419"
            ]
           ],
           "sequential": [
            [
             0,
             "#0d0887"
            ],
            [
             0.1111111111111111,
             "#46039f"
            ],
            [
             0.2222222222222222,
             "#7201a8"
            ],
            [
             0.3333333333333333,
             "#9c179e"
            ],
            [
             0.4444444444444444,
             "#bd3786"
            ],
            [
             0.5555555555555556,
             "#d8576b"
            ],
            [
             0.6666666666666666,
             "#ed7953"
            ],
            [
             0.7777777777777778,
             "#fb9f3a"
            ],
            [
             0.8888888888888888,
             "#fdca26"
            ],
            [
             1,
             "#f0f921"
            ]
           ],
           "sequentialminus": [
            [
             0,
             "#0d0887"
            ],
            [
             0.1111111111111111,
             "#46039f"
            ],
            [
             0.2222222222222222,
             "#7201a8"
            ],
            [
             0.3333333333333333,
             "#9c179e"
            ],
            [
             0.4444444444444444,
             "#bd3786"
            ],
            [
             0.5555555555555556,
             "#d8576b"
            ],
            [
             0.6666666666666666,
             "#ed7953"
            ],
            [
             0.7777777777777778,
             "#fb9f3a"
            ],
            [
             0.8888888888888888,
             "#fdca26"
            ],
            [
             1,
             "#f0f921"
            ]
           ]
          },
          "colorway": [
           "#636efa",
           "#EF553B",
           "#00cc96",
           "#ab63fa",
           "#FFA15A",
           "#19d3f3",
           "#FF6692",
           "#B6E880",
           "#FF97FF",
           "#FECB52"
          ],
          "font": {
           "color": "#2a3f5f"
          },
          "geo": {
           "bgcolor": "white",
           "lakecolor": "white",
           "landcolor": "#E5ECF6",
           "showlakes": true,
           "showland": true,
           "subunitcolor": "white"
          },
          "hoverlabel": {
           "align": "left"
          },
          "hovermode": "closest",
          "mapbox": {
           "style": "light"
          },
          "paper_bgcolor": "white",
          "plot_bgcolor": "#E5ECF6",
          "polar": {
           "angularaxis": {
            "gridcolor": "white",
            "linecolor": "white",
            "ticks": ""
           },
           "bgcolor": "#E5ECF6",
           "radialaxis": {
            "gridcolor": "white",
            "linecolor": "white",
            "ticks": ""
           }
          },
          "scene": {
           "xaxis": {
            "backgroundcolor": "#E5ECF6",
            "gridcolor": "white",
            "gridwidth": 2,
            "linecolor": "white",
            "showbackground": true,
            "ticks": "",
            "zerolinecolor": "white"
           },
           "yaxis": {
            "backgroundcolor": "#E5ECF6",
            "gridcolor": "white",
            "gridwidth": 2,
            "linecolor": "white",
            "showbackground": true,
            "ticks": "",
            "zerolinecolor": "white"
           },
           "zaxis": {
            "backgroundcolor": "#E5ECF6",
            "gridcolor": "white",
            "gridwidth": 2,
            "linecolor": "white",
            "showbackground": true,
            "ticks": "",
            "zerolinecolor": "white"
           }
          },
          "shapedefaults": {
           "line": {
            "color": "#2a3f5f"
           }
          },
          "ternary": {
           "aaxis": {
            "gridcolor": "white",
            "linecolor": "white",
            "ticks": ""
           },
           "baxis": {
            "gridcolor": "white",
            "linecolor": "white",
            "ticks": ""
           },
           "bgcolor": "#E5ECF6",
           "caxis": {
            "gridcolor": "white",
            "linecolor": "white",
            "ticks": ""
           }
          },
          "title": {
           "x": 0.05
          },
          "xaxis": {
           "automargin": true,
           "gridcolor": "white",
           "linecolor": "white",
           "ticks": "",
           "title": {
            "standoff": 15
           },
           "zerolinecolor": "white",
           "zerolinewidth": 2
          },
          "yaxis": {
           "automargin": true,
           "gridcolor": "white",
           "linecolor": "white",
           "ticks": "",
           "title": {
            "standoff": 15
           },
           "zerolinecolor": "white",
           "zerolinewidth": 2
          }
         }
        },
        "title": {
         "text": "Demand Curve",
         "x": 0.5
        },
        "width": 1200,
        "xaxis": {
         "anchor": "y",
         "autorange": true,
         "domain": [
          0,
          1
         ],
         "range": [
          0,
          0.99
         ],
         "title": {
          "text": "Price"
         },
         "type": "linear"
        },
        "yaxis": {
         "anchor": "x",
         "autorange": true,
         "domain": [
          0,
          1
         ],
         "range": [
          -0.3332277777777778,
          1.333327777777778
         ],
         "title": {
          "text": "Demand Curve"
         },
         "type": "linear"
        }
       }
      },
      "image/png": "[encoded data removed]"
     },
     "metadata": {},
     "output_type": "display_data"
    }
   ],
   "source": [
    "fig = px.line(demands, x=\"price\", y=[\"demand\", \"over_demand\", \"under_demand\"], title=\"Demand Curve\") \n",
    "labels={\"demand\": \"ground truth\", \"over_demand\":\"over approximation\", \"under_demand\":\"under approximation\"}\n",
    "set_names(fig, labels)\n",
    "\n",
    "fig.update_layout(font_family=\"Calibri\", font_size=24)\n",
    "fig.update_layout(yaxis_title=\"Demand Curve\", xaxis_title=\"Price\", title_x=0.5, width = 1200, height = 800)\n",
    "fig.show()"
   ]
  },
  {
   "cell_type": "code",
   "execution_count": 280,
   "metadata": {},
   "outputs": [],
   "source": [
    "def revenue(prices, predictions): \n",
    "    return prices * predictions\n",
    "\n",
    "revenues = pd.DataFrame(dict(\n",
    "    price = xs,\n",
    "    true_revenue = revenue(xs, demands.demand.values),\n",
    "    over_revenue = revenue(xs, demands.over_demand.values),\n",
    "    under_revenue = revenue(xs, demands.under_demand.values)\n",
    "))"
   ]
  },
  {
   "cell_type": "code",
   "execution_count": 281,
   "metadata": {},
   "outputs": [
    {
     "data": {
      "application/vnd.plotly.v1+json": {
       "config": {
        "plotlyServerURL": "https://plot.ly"
       },
       "data": [
        {
         "hovertemplate": "variable=ground truth revenue<br>price=%{x}<br>value=%{y}<extra></extra>",
         "legendgroup": "ground truth revenue",
         "line": {
          "color": "#636efa",
          "dash": "solid"
         },
         "marker": {
          "symbol": "circle"
         },
         "mode": "lines",
         "name": "ground truth revenue",
         "orientation": "v",
         "showlegend": true,
         "type": "scatter",
         "x": [
          0,
          0.01,
          0.02,
          0.03,
          0.04,
          0.05,
          0.06,
          0.07,
          0.08,
          0.09,
          0.1,
          0.11,
          0.12,
          0.13,
          0.14,
          0.15,
          0.16,
          0.17,
          0.18,
          0.19,
          0.2,
          0.21,
          0.22,
          0.23,
          0.24,
          0.25,
          0.26,
          0.27,
          0.28,
          0.29,
          0.3,
          0.31,
          0.32,
          0.33,
          0.34,
          0.35000000000000003,
          0.36,
          0.37,
          0.38,
          0.39,
          0.4,
          0.41000000000000003,
          0.42,
          0.43,
          0.44,
          0.45,
          0.46,
          0.47000000000000003,
          0.48,
          0.49,
          0.5,
          0.51,
          0.52,
          0.53,
          0.54,
          0.55,
          0.56,
          0.5700000000000001,
          0.58,
          0.59,
          0.6,
          0.61,
          0.62,
          0.63,
          0.64,
          0.65,
          0.66,
          0.67,
          0.68,
          0.6900000000000001,
          0.7000000000000001,
          0.71,
          0.72,
          0.73,
          0.74,
          0.75,
          0.76,
          0.77,
          0.78,
          0.79,
          0.8,
          0.81,
          0.8200000000000001,
          0.8300000000000001,
          0.84,
          0.85,
          0.86,
          0.87,
          0.88,
          0.89,
          0.9,
          0.91,
          0.92,
          0.93,
          0.9400000000000001,
          0.9500000000000001,
          0.96,
          0.97,
          0.98,
          0.99
         ],
         "xaxis": "x",
         "y": [
          0,
          0.009801,
          0.019208,
          0.028227,
          0.036864,
          0.045125,
          0.053015999999999994,
          0.060543,
          0.06771200000000001,
          0.074529,
          0.08100000000000002,
          0.087131,
          0.092928,
          0.09839700000000001,
          0.103544,
          0.10837499999999999,
          0.11289599999999998,
          0.117113,
          0.12103200000000001,
          0.12465900000000002,
          0.12800000000000003,
          0.131061,
          0.13384800000000002,
          0.136367,
          0.138624,
          0.140625,
          0.142376,
          0.14388299999999998,
          0.145152,
          0.14618899999999999,
          0.14699999999999996,
          0.14759099999999997,
          0.147968,
          0.148137,
          0.14810399999999996,
          0.14787499999999998,
          0.147456,
          0.146853,
          0.146072,
          0.145119,
          0.144,
          0.142721,
          0.14128800000000002,
          0.13970700000000003,
          0.13798400000000002,
          0.13612500000000002,
          0.134136,
          0.13202300000000003,
          0.12979200000000002,
          0.127449,
          0.125,
          0.12245099999999999,
          0.119808,
          0.117077,
          0.11426399999999998,
          0.11137499999999999,
          0.108416,
          0.10539299999999999,
          0.10231200000000001,
          0.09917900000000002,
          0.09600000000000002,
          0.092781,
          0.089528,
          0.08624699999999999,
          0.082944,
          0.07962499999999999,
          0.07629599999999999,
          0.07296299999999999,
          0.06963199999999999,
          0.06630899999999998,
          0.06299999999999997,
          0.059711000000000014,
          0.056448000000000005,
          0.053217,
          0.050024000000000006,
          0.046875,
          0.043776,
          0.04073299999999999,
          0.037751999999999994,
          0.03483899999999999,
          0.03199999999999999,
          0.029240999999999986,
          0.026567999999999984,
          0.02398699999999998,
          0.02150400000000001,
          0.019125000000000003,
          0.016856000000000003,
          0.014703,
          0.012672,
          0.010768999999999999,
          0.008999999999999996,
          0.007370999999999995,
          0.005887999999999994,
          0.004556999999999993,
          0.003383999999999994,
          0.002374999999999994,
          0.0015360000000000026,
          0.0008730000000000015,
          0.0003920000000000007,
          9.900000000000018e-05
         ],
         "yaxis": "y"
        },
        {
         "hovertemplate": "variable=revenue of over-approximation<br>price=%{x}<br>value=%{y}<extra></extra>",
         "legendgroup": "revenue of over-approximation",
         "line": {
          "color": "#EF553B",
          "dash": "solid"
         },
         "marker": {
          "symbol": "circle"
         },
         "mode": "lines",
         "name": "revenue of over-approximation",
         "orientation": "v",
         "showlegend": true,
         "type": "scatter",
         "x": [
          0,
          0.01,
          0.02,
          0.03,
          0.04,
          0.05,
          0.06,
          0.07,
          0.08,
          0.09,
          0.1,
          0.11,
          0.12,
          0.13,
          0.14,
          0.15,
          0.16,
          0.17,
          0.18,
          0.19,
          0.2,
          0.21,
          0.22,
          0.23,
          0.24,
          0.25,
          0.26,
          0.27,
          0.28,
          0.29,
          0.3,
          0.31,
          0.32,
          0.33,
          0.34,
          0.35000000000000003,
          0.36,
          0.37,
          0.38,
          0.39,
          0.4,
          0.41000000000000003,
          0.42,
          0.43,
          0.44,
          0.45,
          0.46,
          0.47000000000000003,
          0.48,
          0.49,
          0.5,
          0.51,
          0.52,
          0.53,
          0.54,
          0.55,
          0.56,
          0.5700000000000001,
          0.58,
          0.59,
          0.6,
          0.61,
          0.62,
          0.63,
          0.64,
          0.65,
          0.66,
          0.67,
          0.68,
          0.6900000000000001,
          0.7000000000000001,
          0.71,
          0.72,
          0.73,
          0.74,
          0.75,
          0.76,
          0.77,
          0.78,
          0.79,
          0.8,
          0.81,
          0.8200000000000001,
          0.8300000000000001,
          0.84,
          0.85,
          0.86,
          0.87,
          0.88,
          0.89,
          0.9,
          0.91,
          0.92,
          0.93,
          0.9400000000000001,
          0.9500000000000001,
          0.96,
          0.97,
          0.98,
          0.99
         ],
         "xaxis": "x",
         "y": [
          0,
          0.012301,
          0.024208,
          0.035727,
          0.046864,
          0.057624999999999996,
          0.068016,
          0.078043,
          0.087712,
          0.097029,
          0.10600000000000001,
          0.114631,
          0.122928,
          0.13089699999999999,
          0.138544,
          0.14587499999999998,
          0.15289599999999998,
          0.159613,
          0.166032,
          0.17215900000000003,
          0.17800000000000005,
          0.183561,
          0.18884800000000002,
          0.193867,
          0.198624,
          0.203125,
          0.207376,
          0.211383,
          0.215152,
          0.218689,
          0.222,
          0.22509099999999999,
          0.22796799999999998,
          0.23063699999999995,
          0.23310399999999998,
          0.23537499999999997,
          0.23745599999999997,
          0.239353,
          0.24107200000000004,
          0.242619,
          0.244,
          0.245221,
          0.246288,
          0.24720700000000004,
          0.24798400000000004,
          0.248625,
          0.24913600000000005,
          0.24952300000000002,
          0.249792,
          0.249949,
          0.25,
          0.249951,
          0.249808,
          0.249577,
          0.24926399999999999,
          0.24887499999999999,
          0.24841600000000003,
          0.247893,
          0.24731199999999998,
          0.246679,
          0.246,
          0.245281,
          0.24452799999999997,
          0.24374700000000002,
          0.242944,
          0.242125,
          0.241296,
          0.240463,
          0.23963199999999998,
          0.238809,
          0.238,
          0.237211,
          0.23644800000000002,
          0.235717,
          0.23502399999999998,
          0.234375,
          0.23377599999999998,
          0.233233,
          0.23275200000000001,
          0.232339,
          0.23199999999999998,
          0.23174099999999997,
          0.231568,
          0.231487,
          0.231504,
          0.231625,
          0.231856,
          0.23220300000000002,
          0.23267200000000002,
          0.233269,
          0.234,
          0.234871,
          0.23588800000000001,
          0.23705700000000002,
          0.238384,
          0.23987500000000003,
          0.24153599999999997,
          0.243373,
          0.245392,
          0.24759899999999999
         ],
         "yaxis": "y"
        },
        {
         "hovertemplate": "variable=revenue of under-approximation<br>price=%{x}<br>value=%{y}<extra></extra>",
         "legendgroup": "revenue of under-approximation",
         "line": {
          "color": "#00cc96",
          "dash": "solid"
         },
         "marker": {
          "symbol": "circle"
         },
         "mode": "lines",
         "name": "revenue of under-approximation",
         "orientation": "v",
         "showlegend": true,
         "type": "scatter",
         "x": [
          0,
          0.01,
          0.02,
          0.03,
          0.04,
          0.05,
          0.06,
          0.07,
          0.08,
          0.09,
          0.1,
          0.11,
          0.12,
          0.13,
          0.14,
          0.15,
          0.16,
          0.17,
          0.18,
          0.19,
          0.2,
          0.21,
          0.22,
          0.23,
          0.24,
          0.25,
          0.26,
          0.27,
          0.28,
          0.29,
          0.3,
          0.31,
          0.32,
          0.33,
          0.34,
          0.35000000000000003,
          0.36,
          0.37,
          0.38,
          0.39,
          0.4,
          0.41000000000000003,
          0.42,
          0.43,
          0.44,
          0.45,
          0.46,
          0.47000000000000003,
          0.48,
          0.49,
          0.5,
          0.51,
          0.52,
          0.53,
          0.54,
          0.55,
          0.56,
          0.5700000000000001,
          0.58,
          0.59,
          0.6,
          0.61,
          0.62,
          0.63,
          0.64,
          0.65,
          0.66,
          0.67,
          0.68,
          0.6900000000000001,
          0.7000000000000001,
          0.71,
          0.72,
          0.73,
          0.74,
          0.75,
          0.76,
          0.77,
          0.78,
          0.79,
          0.8,
          0.81,
          0.8200000000000001,
          0.8300000000000001,
          0.84,
          0.85,
          0.86,
          0.87,
          0.88,
          0.89,
          0.9,
          0.91,
          0.92,
          0.93,
          0.9400000000000001,
          0.9500000000000001,
          0.96,
          0.97,
          0.98,
          0.99
         ],
         "xaxis": "x",
         "y": [
          0,
          0.007301,
          0.014207999999999998,
          0.020727,
          0.026864,
          0.032625,
          0.038015999999999994,
          0.043043,
          0.047712000000000004,
          0.052029000000000006,
          0.05600000000000001,
          0.059631,
          0.062928,
          0.06589700000000001,
          0.068544,
          0.07087499999999998,
          0.07289599999999999,
          0.074613,
          0.07603200000000002,
          0.07715900000000002,
          0.07800000000000003,
          0.07856100000000002,
          0.07884800000000002,
          0.07886699999999999,
          0.078624,
          0.078125,
          0.077376,
          0.07638299999999999,
          0.075152,
          0.07368899999999999,
          0.07199999999999998,
          0.07009099999999997,
          0.06796799999999997,
          0.06563699999999997,
          0.06310399999999997,
          0.06037499999999996,
          0.05745600000000001,
          0.05435300000000001,
          0.051072000000000006,
          0.047618999999999995,
          0.044,
          0.040220999999999986,
          0.036288000000000036,
          0.032207000000000034,
          0.02798400000000002,
          0.02362500000000002,
          0.019136000000000014,
          0.014523000000000019,
          0.009792000000000014,
          0.0049489999999999985,
          0,
          -0.00504900000000001,
          -0.010192000000000003,
          -0.015423000000000008,
          -0.020736000000000025,
          -0.026125000000000027,
          -0.03158400000000002,
          -0.03710700000000003,
          -0.04268799999999998,
          -0.04832099999999998,
          -0.05399999999999998,
          -0.05971899999999999,
          -0.065472,
          -0.07125300000000001,
          -0.077056,
          -0.082875,
          -0.08870400000000002,
          -0.09453700000000002,
          -0.10036800000000003,
          -0.10619100000000004,
          -0.11200000000000003,
          -0.11778899999999999,
          -0.12355199999999998,
          -0.12928299999999998,
          -0.134976,
          -0.140625,
          -0.14622400000000002,
          -0.151767,
          -0.157248,
          -0.16266100000000003,
          -0.16800000000000004,
          -0.17325900000000005,
          -0.17843200000000004,
          -0.18351300000000004,
          -0.188496,
          -0.193375,
          -0.198144,
          -0.202797,
          -0.207328,
          -0.211731,
          -0.216,
          -0.22012900000000002,
          -0.22411200000000003,
          -0.22794300000000003,
          -0.23161600000000002,
          -0.235125,
          -0.238464,
          -0.24162699999999998,
          -0.244608,
          -0.247401
         ],
         "yaxis": "y"
        }
       ],
       "layout": {
        "font": {
         "family": "Calibri",
         "size": 24
        },
        "height": 800,
        "legend": {
         "title": {
          "text": "variable"
         },
         "tracegroupgap": 0
        },
        "template": {
         "data": {
          "bar": [
           {
            "error_x": {
             "color": "#2a3f5f"
            },
            "error_y": {
             "color": "#2a3f5f"
            },
            "marker": {
             "line": {
              "color": "#E5ECF6",
              "width": 0.5
             },
             "pattern": {
              "fillmode": "overlay",
              "size": 10,
              "solidity": 0.2
             }
            },
            "type": "bar"
           }
          ],
          "barpolar": [
           {
            "marker": {
             "line": {
              "color": "#E5ECF6",
              "width": 0.5
             },
             "pattern": {
              "fillmode": "overlay",
              "size": 10,
              "solidity": 0.2
             }
            },
            "type": "barpolar"
           }
          ],
          "carpet": [
           {
            "aaxis": {
             "endlinecolor": "#2a3f5f",
             "gridcolor": "white",
             "linecolor": "white",
             "minorgridcolor": "white",
             "startlinecolor": "#2a3f5f"
            },
            "baxis": {
             "endlinecolor": "#2a3f5f",
             "gridcolor": "white",
             "linecolor": "white",
             "minorgridcolor": "white",
             "startlinecolor": "#2a3f5f"
            },
            "type": "carpet"
           }
          ],
          "choropleth": [
           {
            "colorbar": {
             "outlinewidth": 0,
             "ticks": ""
            },
            "type": "choropleth"
           }
          ],
          "contour": [
           {
            "colorbar": {
             "outlinewidth": 0,
             "ticks": ""
            },
            "colorscale": [
             [
              0,
              "#0d0887"
             ],
             [
              0.1111111111111111,
              "#46039f"
             ],
             [
              0.2222222222222222,
              "#7201a8"
             ],
             [
              0.3333333333333333,
              "#9c179e"
             ],
             [
              0.4444444444444444,
              "#bd3786"
             ],
             [
              0.5555555555555556,
              "#d8576b"
             ],
             [
              0.6666666666666666,
              "#ed7953"
             ],
             [
              0.7777777777777778,
              "#fb9f3a"
             ],
             [
              0.8888888888888888,
              "#fdca26"
             ],
             [
              1,
              "#f0f921"
             ]
            ],
            "type": "contour"
           }
          ],
          "contourcarpet": [
           {
            "colorbar": {
             "outlinewidth": 0,
             "ticks": ""
            },
            "type": "contourcarpet"
           }
          ],
          "heatmap": [
           {
            "colorbar": {
             "outlinewidth": 0,
             "ticks": ""
            },
            "colorscale": [
             [
              0,
              "#0d0887"
             ],
             [
              0.1111111111111111,
              "#46039f"
             ],
             [
              0.2222222222222222,
              "#7201a8"
             ],
             [
              0.3333333333333333,
              "#9c179e"
             ],
             [
              0.4444444444444444,
              "#bd3786"
             ],
             [
              0.5555555555555556,
              "#d8576b"
             ],
             [
              0.6666666666666666,
              "#ed7953"
             ],
             [
              0.7777777777777778,
              "#fb9f3a"
             ],
             [
              0.8888888888888888,
              "#fdca26"
             ],
             [
              1,
              "#f0f921"
             ]
            ],
            "type": "heatmap"
           }
          ],
          "heatmapgl": [
           {
            "colorbar": {
             "outlinewidth": 0,
             "ticks": ""
            },
            "colorscale": [
             [
              0,
              "#0d0887"
             ],
             [
              0.1111111111111111,
              "#46039f"
             ],
             [
              0.2222222222222222,
              "#7201a8"
             ],
             [
              0.3333333333333333,
              "#9c179e"
             ],
             [
              0.4444444444444444,
              "#bd3786"
             ],
             [
              0.5555555555555556,
              "#d8576b"
             ],
             [
              0.6666666666666666,
              "#ed7953"
             ],
             [
              0.7777777777777778,
              "#fb9f3a"
             ],
             [
              0.8888888888888888,
              "#fdca26"
             ],
             [
              1,
              "#f0f921"
             ]
            ],
            "type": "heatmapgl"
           }
          ],
          "histogram": [
           {
            "marker": {
             "pattern": {
              "fillmode": "overlay",
              "size": 10,
              "solidity": 0.2
             }
            },
            "type": "histogram"
           }
          ],
          "histogram2d": [
           {
            "colorbar": {
             "outlinewidth": 0,
             "ticks": ""
            },
            "colorscale": [
             [
              0,
              "#0d0887"
             ],
             [
              0.1111111111111111,
              "#46039f"
             ],
             [
              0.2222222222222222,
              "#7201a8"
             ],
             [
              0.3333333333333333,
              "#9c179e"
             ],
             [
              0.4444444444444444,
              "#bd3786"
             ],
             [
              0.5555555555555556,
              "#d8576b"
             ],
             [
              0.6666666666666666,
              "#ed7953"
             ],
             [
              0.7777777777777778,
              "#fb9f3a"
             ],
             [
              0.8888888888888888,
              "#fdca26"
             ],
             [
              1,
              "#f0f921"
             ]
            ],
            "type": "histogram2d"
           }
          ],
          "histogram2dcontour": [
           {
            "colorbar": {
             "outlinewidth": 0,
             "ticks": ""
            },
            "colorscale": [
             [
              0,
              "#0d0887"
             ],
             [
              0.1111111111111111,
              "#46039f"
             ],
             [
              0.2222222222222222,
              "#7201a8"
             ],
             [
              0.3333333333333333,
              "#9c179e"
             ],
             [
              0.4444444444444444,
              "#bd3786"
             ],
             [
              0.5555555555555556,
              "#d8576b"
             ],
             [
              0.6666666666666666,
              "#ed7953"
             ],
             [
              0.7777777777777778,
              "#fb9f3a"
             ],
             [
              0.8888888888888888,
              "#fdca26"
             ],
             [
              1,
              "#f0f921"
             ]
            ],
            "type": "histogram2dcontour"
           }
          ],
          "mesh3d": [
           {
            "colorbar": {
             "outlinewidth": 0,
             "ticks": ""
            },
            "type": "mesh3d"
           }
          ],
          "parcoords": [
           {
            "line": {
             "colorbar": {
              "outlinewidth": 0,
              "ticks": ""
             }
            },
            "type": "parcoords"
           }
          ],
          "pie": [
           {
            "automargin": true,
            "type": "pie"
           }
          ],
          "scatter": [
           {
            "fillpattern": {
             "fillmode": "overlay",
             "size": 10,
             "solidity": 0.2
            },
            "type": "scatter"
           }
          ],
          "scatter3d": [
           {
            "line": {
             "colorbar": {
              "outlinewidth": 0,
              "ticks": ""
             }
            },
            "marker": {
             "colorbar": {
              "outlinewidth": 0,
              "ticks": ""
             }
            },
            "type": "scatter3d"
           }
          ],
          "scattercarpet": [
           {
            "marker": {
             "colorbar": {
              "outlinewidth": 0,
              "ticks": ""
             }
            },
            "type": "scattercarpet"
           }
          ],
          "scattergeo": [
           {
            "marker": {
             "colorbar": {
              "outlinewidth": 0,
              "ticks": ""
             }
            },
            "type": "scattergeo"
           }
          ],
          "scattergl": [
           {
            "marker": {
             "colorbar": {
              "outlinewidth": 0,
              "ticks": ""
             }
            },
            "type": "scattergl"
           }
          ],
          "scattermapbox": [
           {
            "marker": {
             "colorbar": {
              "outlinewidth": 0,
              "ticks": ""
             }
            },
            "type": "scattermapbox"
           }
          ],
          "scatterpolar": [
           {
            "marker": {
             "colorbar": {
              "outlinewidth": 0,
              "ticks": ""
             }
            },
            "type": "scatterpolar"
           }
          ],
          "scatterpolargl": [
           {
            "marker": {
             "colorbar": {
              "outlinewidth": 0,
              "ticks": ""
             }
            },
            "type": "scatterpolargl"
           }
          ],
          "scatterternary": [
           {
            "marker": {
             "colorbar": {
              "outlinewidth": 0,
              "ticks": ""
             }
            },
            "type": "scatterternary"
           }
          ],
          "surface": [
           {
            "colorbar": {
             "outlinewidth": 0,
             "ticks": ""
            },
            "colorscale": [
             [
              0,
              "#0d0887"
             ],
             [
              0.1111111111111111,
              "#46039f"
             ],
             [
              0.2222222222222222,
              "#7201a8"
             ],
             [
              0.3333333333333333,
              "#9c179e"
             ],
             [
              0.4444444444444444,
              "#bd3786"
             ],
             [
              0.5555555555555556,
              "#d8576b"
             ],
             [
              0.6666666666666666,
              "#ed7953"
             ],
             [
              0.7777777777777778,
              "#fb9f3a"
             ],
             [
              0.8888888888888888,
              "#fdca26"
             ],
             [
              1,
              "#f0f921"
             ]
            ],
            "type": "surface"
           }
          ],
          "table": [
           {
            "cells": {
             "fill": {
              "color": "#EBF0F8"
             },
             "line": {
              "color": "white"
             }
            },
            "header": {
             "fill": {
              "color": "#C8D4E3"
             },
             "line": {
              "color": "white"
             }
            },
            "type": "table"
           }
          ]
         },
         "layout": {
          "annotationdefaults": {
           "arrowcolor": "#2a3f5f",
           "arrowhead": 0,
           "arrowwidth": 1
          },
          "autotypenumbers": "strict",
          "coloraxis": {
           "colorbar": {
            "outlinewidth": 0,
            "ticks": ""
           }
          },
          "colorscale": {
           "diverging": [
            [
             0,
             "#8e0152"
            ],
            [
             0.1,
             "#c51b7d"
            ],
            [
             0.2,
             "#de77ae"
            ],
            [
             0.3,
             "#f1b6da"
            ],
            [
             0.4,
             "#fde0ef"
            ],
            [
             0.5,
             "#f7f7f7"
            ],
            [
             0.6,
             "#e6f5d0"
            ],
            [
             0.7,
             "#b8e186"
            ],
            [
             0.8,
             "#7fbc41"
            ],
            [
             0.9,
             "#4d9221"
            ],
            [
             1,
             "#276419"
            ]
           ],
           "sequential": [
            [
             0,
             "#0d0887"
            ],
            [
             0.1111111111111111,
             "#46039f"
            ],
            [
             0.2222222222222222,
             "#7201a8"
            ],
            [
             0.3333333333333333,
             "#9c179e"
            ],
            [
             0.4444444444444444,
             "#bd3786"
            ],
            [
             0.5555555555555556,
             "#d8576b"
            ],
            [
             0.6666666666666666,
             "#ed7953"
            ],
            [
             0.7777777777777778,
             "#fb9f3a"
            ],
            [
             0.8888888888888888,
             "#fdca26"
            ],
            [
             1,
             "#f0f921"
            ]
           ],
           "sequentialminus": [
            [
             0,
             "#0d0887"
            ],
            [
             0.1111111111111111,
             "#46039f"
            ],
            [
             0.2222222222222222,
             "#7201a8"
            ],
            [
             0.3333333333333333,
             "#9c179e"
            ],
            [
             0.4444444444444444,
             "#bd3786"
            ],
            [
             0.5555555555555556,
             "#d8576b"
            ],
            [
             0.6666666666666666,
             "#ed7953"
            ],
            [
             0.7777777777777778,
             "#fb9f3a"
            ],
            [
             0.8888888888888888,
             "#fdca26"
            ],
            [
             1,
             "#f0f921"
            ]
           ]
          },
          "colorway": [
           "#636efa",
           "#EF553B",
           "#00cc96",
           "#ab63fa",
           "#FFA15A",
           "#19d3f3",
           "#FF6692",
           "#B6E880",
           "#FF97FF",
           "#FECB52"
          ],
          "font": {
           "color": "#2a3f5f"
          },
          "geo": {
           "bgcolor": "white",
           "lakecolor": "white",
           "landcolor": "#E5ECF6",
           "showlakes": true,
           "showland": true,
           "subunitcolor": "white"
          },
          "hoverlabel": {
           "align": "left"
          },
          "hovermode": "closest",
          "mapbox": {
           "style": "light"
          },
          "paper_bgcolor": "white",
          "plot_bgcolor": "#E5ECF6",
          "polar": {
           "angularaxis": {
            "gridcolor": "white",
            "linecolor": "white",
            "ticks": ""
           },
           "bgcolor": "#E5ECF6",
           "radialaxis": {
            "gridcolor": "white",
            "linecolor": "white",
            "ticks": ""
           }
          },
          "scene": {
           "xaxis": {
            "backgroundcolor": "#E5ECF6",
            "gridcolor": "white",
            "gridwidth": 2,
            "linecolor": "white",
            "showbackground": true,
            "ticks": "",
            "zerolinecolor": "white"
           },
           "yaxis": {
            "backgroundcolor": "#E5ECF6",
            "gridcolor": "white",
            "gridwidth": 2,
            "linecolor": "white",
            "showbackground": true,
            "ticks": "",
            "zerolinecolor": "white"
           },
           "zaxis": {
            "backgroundcolor": "#E5ECF6",
            "gridcolor": "white",
            "gridwidth": 2,
            "linecolor": "white",
            "showbackground": true,
            "ticks": "",
            "zerolinecolor": "white"
           }
          },
          "shapedefaults": {
           "line": {
            "color": "#2a3f5f"
           }
          },
          "ternary": {
           "aaxis": {
            "gridcolor": "white",
            "linecolor": "white",
            "ticks": ""
           },
           "baxis": {
            "gridcolor": "white",
            "linecolor": "white",
            "ticks": ""
           },
           "bgcolor": "#E5ECF6",
           "caxis": {
            "gridcolor": "white",
            "linecolor": "white",
            "ticks": ""
           }
          },
          "title": {
           "x": 0.05
          },
          "xaxis": {
           "automargin": true,
           "gridcolor": "white",
           "linecolor": "white",
           "ticks": "",
           "title": {
            "standoff": 15
           },
           "zerolinecolor": "white",
           "zerolinewidth": 2
          },
          "yaxis": {
           "automargin": true,
           "gridcolor": "white",
           "linecolor": "white",
           "ticks": "",
           "title": {
            "standoff": 15
           },
           "zerolinecolor": "white",
           "zerolinewidth": 2
          }
         }
        },
        "title": {
         "text": "Revenue Predictions",
         "x": 0.5
        },
        "width": 1200,
        "xaxis": {
         "anchor": "y",
         "autorange": true,
         "domain": [
          0,
          1
         ],
         "range": [
          0,
          0.99
         ],
         "title": {
          "text": "Price"
         },
         "type": "linear"
        },
        "yaxis": {
         "anchor": "x",
         "autorange": true,
         "domain": [
          0,
          1
         ],
         "range": [
          -0.27503438888888887,
          0.2776333888888889
         ],
         "title": {
          "text": "Revenue"
         },
         "type": "linear"
        }
       }
      },
      "image/png": "[encoded data removed]"
     },
     "metadata": {},
     "output_type": "display_data"
    }
   ],
   "source": [
    "fig = px.line(revenues, x=\"price\", y=[\"true_revenue\", \"over_revenue\", \"under_revenue\"], title=\"Revenue Predictions\") \n",
    "labels={\"true_revenue\": \"ground truth revenue\", \"over_revenue\":\"revenue of over-approximation\", \"under_revenue\":\"revenue of under-approximation\"}\n",
    "set_names(fig, labels)\n",
    "\n",
    "fig.update_layout(font_family=\"Calibri\", font_size=24)\n",
    "fig.update_layout(yaxis_title=\"Revenue\", xaxis_title=\"Price\", title_x=0.5, width = 1200, height = 800)\n",
    "fig.show()"
   ]
  },
  {
   "cell_type": "code",
   "execution_count": 256,
   "metadata": {},
   "outputs": [],
   "source": [
    "under_approx_decision = revenues.under_revenue.argmax()\n",
    "over_approx_decision = revenues.over_revenue.argmax()"
   ]
  },
  {
   "cell_type": "code",
   "execution_count": 257,
   "metadata": {},
   "outputs": [],
   "source": [
    "optimal_decision = revenues.true_revenue.argmax()\n",
    "optimal_revenue = revenues.true_revenue.max()\n",
    "optimal_price = revenues.price[optimal_decision]\n",
    "\n",
    "under_decision = revenues.under_revenue.argmax()\n",
    "under_price = revenues.price[under_decision]\n",
    "under_revenue = revenues.true_revenue[under_decision]\n",
    "under_prediction = revenues.under_revenue[under_decision]\n",
    "\n",
    "over_decision = revenues.over_revenue.argmax()\n",
    "over_price = revenues.price[over_decision]\n",
    "over_revenue = revenues.true_revenue[over_decision]\n",
    "over_prediction = revenues.over_revenue[over_decision]\n",
    "\n",
    "\n",
    "optimal_choice = pd.DataFrame(dict(\n",
    "    p = [optimal_price],\n",
    "    g = [optimal_revenue],\n",
    "    r = [optimal_revenue]\n",
    "))\n",
    "\n",
    "under_choice = pd.DataFrame(dict(\n",
    "    p = [under_price],\n",
    "    r = [under_revenue],\n",
    "    g = [under_prediction]\n",
    "))\n",
    "\n",
    "over_choice = pd.DataFrame(dict(\n",
    "    p = [over_price],\n",
    "    r = [over_revenue],\n",
    "    g = [over_prediction]\n",
    "))\n"
   ]
  },
  {
   "cell_type": "code",
   "execution_count": 258,
   "metadata": {},
   "outputs": [
    {
     "data": {
      "text/plain": [
       "0.148137"
      ]
     },
     "execution_count": 258,
     "metadata": {},
     "output_type": "execute_result"
    }
   ],
   "source": [
    "optimal_revenue"
   ]
  },
  {
   "cell_type": "code",
   "execution_count": 259,
   "metadata": {},
   "outputs": [
    {
     "name": "stdout",
     "output_type": "stream",
     "text": [
      "0    0.148137\n",
      "Name: r, dtype: float64\n"
     ]
    }
   ],
   "source": [
    "print(optimal_choice.r)"
   ]
  },
  {
   "cell_type": "code",
   "execution_count": 266,
   "metadata": {},
   "outputs": [
    {
     "name": "stdout",
     "output_type": "stream",
     "text": [
      "      p         g         r\n",
      "0  0.33  0.148137  0.148137\n",
      "     p      r     g\n",
      "0  0.5  0.125  0.25\n",
      "      p         r         g\n",
      "0  0.23  0.136367  0.078867\n"
     ]
    },
    {
     "data": {
      "application/vnd.plotly.v1+json": {
       "config": {
        "plotlyServerURL": "https://plot.ly"
       },
       "data": [
        {
         "hovertemplate": "variable=ground truth revenue<br>price=%{x}<br>value=%{y}<extra></extra>",
         "legendgroup": "ground truth revenue",
         "line": {
          "color": "#636efa",
          "dash": "solid"
         },
         "marker": {
          "symbol": "circle"
         },
         "mode": "lines",
         "name": "ground truth revenue",
         "orientation": "v",
         "showlegend": true,
         "type": "scatter",
         "x": [
          0,
          0.01,
          0.02,
          0.03,
          0.04,
          0.05,
          0.06,
          0.07,
          0.08,
          0.09,
          0.1,
          0.11,
          0.12,
          0.13,
          0.14,
          0.15,
          0.16,
          0.17,
          0.18,
          0.19,
          0.2,
          0.21,
          0.22,
          0.23,
          0.24,
          0.25,
          0.26,
          0.27,
          0.28,
          0.29,
          0.3,
          0.31,
          0.32,
          0.33,
          0.34,
          0.35000000000000003,
          0.36,
          0.37,
          0.38,
          0.39,
          0.4,
          0.41000000000000003,
          0.42,
          0.43,
          0.44,
          0.45,
          0.46,
          0.47000000000000003,
          0.48,
          0.49,
          0.5,
          0.51,
          0.52,
          0.53,
          0.54,
          0.55,
          0.56,
          0.5700000000000001,
          0.58,
          0.59,
          0.6,
          0.61,
          0.62,
          0.63,
          0.64,
          0.65,
          0.66,
          0.67,
          0.68,
          0.6900000000000001,
          0.7000000000000001,
          0.71,
          0.72,
          0.73,
          0.74,
          0.75,
          0.76,
          0.77,
          0.78,
          0.79,
          0.8,
          0.81,
          0.8200000000000001,
          0.8300000000000001,
          0.84,
          0.85,
          0.86,
          0.87,
          0.88,
          0.89,
          0.9,
          0.91,
          0.92,
          0.93,
          0.9400000000000001,
          0.9500000000000001,
          0.96,
          0.97,
          0.98,
          0.99
         ],
         "xaxis": "x",
         "y": [
          0,
          0.009801,
          0.019208,
          0.028227,
          0.036864,
          0.045125,
          0.053015999999999994,
          0.060543,
          0.06771200000000001,
          0.074529,
          0.08100000000000002,
          0.087131,
          0.092928,
          0.09839700000000001,
          0.103544,
          0.10837499999999999,
          0.11289599999999998,
          0.117113,
          0.12103200000000001,
          0.12465900000000002,
          0.12800000000000003,
          0.131061,
          0.13384800000000002,
          0.136367,
          0.138624,
          0.140625,
          0.142376,
          0.14388299999999998,
          0.145152,
          0.14618899999999999,
          0.14699999999999996,
          0.14759099999999997,
          0.147968,
          0.148137,
          0.14810399999999996,
          0.14787499999999998,
          0.147456,
          0.146853,
          0.146072,
          0.145119,
          0.144,
          0.142721,
          0.14128800000000002,
          0.13970700000000003,
          0.13798400000000002,
          0.13612500000000002,
          0.134136,
          0.13202300000000003,
          0.12979200000000002,
          0.127449,
          0.125,
          0.12245099999999999,
          0.119808,
          0.117077,
          0.11426399999999998,
          0.11137499999999999,
          0.108416,
          0.10539299999999999,
          0.10231200000000001,
          0.09917900000000002,
          0.09600000000000002,
          0.092781,
          0.089528,
          0.08624699999999999,
          0.082944,
          0.07962499999999999,
          0.07629599999999999,
          0.07296299999999999,
          0.06963199999999999,
          0.06630899999999998,
          0.06299999999999997,
          0.059711000000000014,
          0.056448000000000005,
          0.053217,
          0.050024000000000006,
          0.046875,
          0.043776,
          0.04073299999999999,
          0.037751999999999994,
          0.03483899999999999,
          0.03199999999999999,
          0.029240999999999986,
          0.026567999999999984,
          0.02398699999999998,
          0.02150400000000001,
          0.019125000000000003,
          0.016856000000000003,
          0.014703,
          0.012672,
          0.010768999999999999,
          0.008999999999999996,
          0.007370999999999995,
          0.005887999999999994,
          0.004556999999999993,
          0.003383999999999994,
          0.002374999999999994,
          0.0015360000000000026,
          0.0008730000000000015,
          0.0003920000000000007,
          9.900000000000018e-05
         ],
         "yaxis": "y"
        },
        {
         "hovertemplate": "variable=revenue of over-approximation<br>price=%{x}<br>value=%{y}<extra></extra>",
         "legendgroup": "revenue of over-approximation",
         "line": {
          "color": "#EF553B",
          "dash": "solid"
         },
         "marker": {
          "symbol": "circle"
         },
         "mode": "lines",
         "name": "revenue of over-approximation",
         "orientation": "v",
         "showlegend": true,
         "type": "scatter",
         "x": [
          0,
          0.01,
          0.02,
          0.03,
          0.04,
          0.05,
          0.06,
          0.07,
          0.08,
          0.09,
          0.1,
          0.11,
          0.12,
          0.13,
          0.14,
          0.15,
          0.16,
          0.17,
          0.18,
          0.19,
          0.2,
          0.21,
          0.22,
          0.23,
          0.24,
          0.25,
          0.26,
          0.27,
          0.28,
          0.29,
          0.3,
          0.31,
          0.32,
          0.33,
          0.34,
          0.35000000000000003,
          0.36,
          0.37,
          0.38,
          0.39,
          0.4,
          0.41000000000000003,
          0.42,
          0.43,
          0.44,
          0.45,
          0.46,
          0.47000000000000003,
          0.48,
          0.49,
          0.5,
          0.51,
          0.52,
          0.53,
          0.54,
          0.55,
          0.56,
          0.5700000000000001,
          0.58,
          0.59,
          0.6,
          0.61,
          0.62,
          0.63,
          0.64,
          0.65,
          0.66,
          0.67,
          0.68,
          0.6900000000000001,
          0.7000000000000001,
          0.71,
          0.72,
          0.73,
          0.74,
          0.75,
          0.76,
          0.77,
          0.78,
          0.79,
          0.8,
          0.81,
          0.8200000000000001,
          0.8300000000000001,
          0.84,
          0.85,
          0.86,
          0.87,
          0.88,
          0.89,
          0.9,
          0.91,
          0.92,
          0.93,
          0.9400000000000001,
          0.9500000000000001,
          0.96,
          0.97,
          0.98,
          0.99
         ],
         "xaxis": "x",
         "y": [
          0,
          0.012301,
          0.024208,
          0.035727,
          0.046864,
          0.057624999999999996,
          0.068016,
          0.078043,
          0.087712,
          0.097029,
          0.10600000000000001,
          0.114631,
          0.122928,
          0.13089699999999999,
          0.138544,
          0.14587499999999998,
          0.15289599999999998,
          0.159613,
          0.166032,
          0.17215900000000003,
          0.17800000000000005,
          0.183561,
          0.18884800000000002,
          0.193867,
          0.198624,
          0.203125,
          0.207376,
          0.211383,
          0.215152,
          0.218689,
          0.222,
          0.22509099999999999,
          0.22796799999999998,
          0.23063699999999995,
          0.23310399999999998,
          0.23537499999999997,
          0.23745599999999997,
          0.239353,
          0.24107200000000004,
          0.242619,
          0.244,
          0.245221,
          0.246288,
          0.24720700000000004,
          0.24798400000000004,
          0.248625,
          0.24913600000000005,
          0.24952300000000002,
          0.249792,
          0.249949,
          0.25,
          0.249951,
          0.249808,
          0.249577,
          0.24926399999999999,
          0.24887499999999999,
          0.24841600000000003,
          0.247893,
          0.24731199999999998,
          0.246679,
          0.246,
          0.245281,
          0.24452799999999997,
          0.24374700000000002,
          0.242944,
          0.242125,
          0.241296,
          0.240463,
          0.23963199999999998,
          0.238809,
          0.238,
          0.237211,
          0.23644800000000002,
          0.235717,
          0.23502399999999998,
          0.234375,
          0.23377599999999998,
          0.233233,
          0.23275200000000001,
          0.232339,
          0.23199999999999998,
          0.23174099999999997,
          0.231568,
          0.231487,
          0.231504,
          0.231625,
          0.231856,
          0.23220300000000002,
          0.23267200000000002,
          0.233269,
          0.234,
          0.234871,
          0.23588800000000001,
          0.23705700000000002,
          0.238384,
          0.23987500000000003,
          0.24153599999999997,
          0.243373,
          0.245392,
          0.24759899999999999
         ],
         "yaxis": "y"
        },
        {
         "hovertemplate": "variable=revenue of under-approximation<br>price=%{x}<br>value=%{y}<extra></extra>",
         "legendgroup": "revenue of under-approximation",
         "line": {
          "color": "#00cc96",
          "dash": "solid"
         },
         "marker": {
          "symbol": "circle"
         },
         "mode": "lines",
         "name": "revenue of under-approximation",
         "orientation": "v",
         "showlegend": true,
         "type": "scatter",
         "x": [
          0,
          0.01,
          0.02,
          0.03,
          0.04,
          0.05,
          0.06,
          0.07,
          0.08,
          0.09,
          0.1,
          0.11,
          0.12,
          0.13,
          0.14,
          0.15,
          0.16,
          0.17,
          0.18,
          0.19,
          0.2,
          0.21,
          0.22,
          0.23,
          0.24,
          0.25,
          0.26,
          0.27,
          0.28,
          0.29,
          0.3,
          0.31,
          0.32,
          0.33,
          0.34,
          0.35000000000000003,
          0.36,
          0.37,
          0.38,
          0.39,
          0.4,
          0.41000000000000003,
          0.42,
          0.43,
          0.44,
          0.45,
          0.46,
          0.47000000000000003,
          0.48,
          0.49,
          0.5,
          0.51,
          0.52,
          0.53,
          0.54,
          0.55,
          0.56,
          0.5700000000000001,
          0.58,
          0.59,
          0.6,
          0.61,
          0.62,
          0.63,
          0.64,
          0.65,
          0.66,
          0.67,
          0.68,
          0.6900000000000001,
          0.7000000000000001,
          0.71,
          0.72,
          0.73,
          0.74,
          0.75,
          0.76,
          0.77,
          0.78,
          0.79,
          0.8,
          0.81,
          0.8200000000000001,
          0.8300000000000001,
          0.84,
          0.85,
          0.86,
          0.87,
          0.88,
          0.89,
          0.9,
          0.91,
          0.92,
          0.93,
          0.9400000000000001,
          0.9500000000000001,
          0.96,
          0.97,
          0.98,
          0.99
         ],
         "xaxis": "x",
         "y": [
          0,
          0.007301,
          0.014207999999999998,
          0.020727,
          0.026864,
          0.032625,
          0.038015999999999994,
          0.043043,
          0.047712000000000004,
          0.052029000000000006,
          0.05600000000000001,
          0.059631,
          0.062928,
          0.06589700000000001,
          0.068544,
          0.07087499999999998,
          0.07289599999999999,
          0.074613,
          0.07603200000000002,
          0.07715900000000002,
          0.07800000000000003,
          0.07856100000000002,
          0.07884800000000002,
          0.07886699999999999,
          0.078624,
          0.078125,
          0.077376,
          0.07638299999999999,
          0.075152,
          0.07368899999999999,
          0.07199999999999998,
          0.07009099999999997,
          0.06796799999999997,
          0.06563699999999997,
          0.06310399999999997,
          0.06037499999999996,
          0.05745600000000001,
          0.05435300000000001,
          0.051072000000000006,
          0.047618999999999995,
          0.044,
          0.040220999999999986,
          0.036288000000000036,
          0.032207000000000034,
          0.02798400000000002,
          0.02362500000000002,
          0.019136000000000014,
          0.014523000000000019,
          0.009792000000000014,
          0.0049489999999999985,
          0,
          -0.00504900000000001,
          -0.010192000000000003,
          -0.015423000000000008,
          -0.020736000000000025,
          -0.026125000000000027,
          -0.03158400000000002,
          -0.03710700000000003,
          -0.04268799999999998,
          -0.04832099999999998,
          -0.05399999999999998,
          -0.05971899999999999,
          -0.065472,
          -0.07125300000000001,
          -0.077056,
          -0.082875,
          -0.08870400000000002,
          -0.09453700000000002,
          -0.10036800000000003,
          -0.10619100000000004,
          -0.11200000000000003,
          -0.11778899999999999,
          -0.12355199999999998,
          -0.12928299999999998,
          -0.134976,
          -0.140625,
          -0.14622400000000002,
          -0.151767,
          -0.157248,
          -0.16266100000000003,
          -0.16800000000000004,
          -0.17325900000000005,
          -0.17843200000000004,
          -0.18351300000000004,
          -0.188496,
          -0.193375,
          -0.198144,
          -0.202797,
          -0.207328,
          -0.211731,
          -0.216,
          -0.22012900000000002,
          -0.22411200000000003,
          -0.22794300000000003,
          -0.23161600000000002,
          -0.235125,
          -0.238464,
          -0.24162699999999998,
          -0.244608,
          -0.247401
         ],
         "yaxis": "y"
        },
        {
         "marker": {
          "color": "#636efa",
          "size": 15
         },
         "mode": "markers",
         "showlegend": false,
         "type": "scatter",
         "x": [
          0.33
         ],
         "y": [
          0.148137
         ]
        },
        {
         "marker": {
          "color": "#EF553B",
          "size": 15
         },
         "mode": "markers",
         "showlegend": false,
         "type": "scatter",
         "x": [
          0.5
         ],
         "y": [
          0.25
         ]
        },
        {
         "marker": {
          "color": "#00cc96",
          "size": 15
         },
         "mode": "markers",
         "showlegend": false,
         "type": "scatter",
         "x": [
          0.23
         ],
         "y": [
          0.07886699999999999
         ]
        }
       ],
       "layout": {
        "font": {
         "family": "Calibri",
         "size": 24
        },
        "height": 800,
        "legend": {
         "title": {
          "text": "variable"
         },
         "tracegroupgap": 0
        },
        "template": {
         "data": {
          "bar": [
           {
            "error_x": {
             "color": "#2a3f5f"
            },
            "error_y": {
             "color": "#2a3f5f"
            },
            "marker": {
             "line": {
              "color": "#E5ECF6",
              "width": 0.5
             },
             "pattern": {
              "fillmode": "overlay",
              "size": 10,
              "solidity": 0.2
             }
            },
            "type": "bar"
           }
          ],
          "barpolar": [
           {
            "marker": {
             "line": {
              "color": "#E5ECF6",
              "width": 0.5
             },
             "pattern": {
              "fillmode": "overlay",
              "size": 10,
              "solidity": 0.2
             }
            },
            "type": "barpolar"
           }
          ],
          "carpet": [
           {
            "aaxis": {
             "endlinecolor": "#2a3f5f",
             "gridcolor": "white",
             "linecolor": "white",
             "minorgridcolor": "white",
             "startlinecolor": "#2a3f5f"
            },
            "baxis": {
             "endlinecolor": "#2a3f5f",
             "gridcolor": "white",
             "linecolor": "white",
             "minorgridcolor": "white",
             "startlinecolor": "#2a3f5f"
            },
            "type": "carpet"
           }
          ],
          "choropleth": [
           {
            "colorbar": {
             "outlinewidth": 0,
             "ticks": ""
            },
            "type": "choropleth"
           }
          ],
          "contour": [
           {
            "colorbar": {
             "outlinewidth": 0,
             "ticks": ""
            },
            "colorscale": [
             [
              0,
              "#0d0887"
             ],
             [
              0.1111111111111111,
              "#46039f"
             ],
             [
              0.2222222222222222,
              "#7201a8"
             ],
             [
              0.3333333333333333,
              "#9c179e"
             ],
             [
              0.4444444444444444,
              "#bd3786"
             ],
             [
              0.5555555555555556,
              "#d8576b"
             ],
             [
              0.6666666666666666,
              "#ed7953"
             ],
             [
              0.7777777777777778,
              "#fb9f3a"
             ],
             [
              0.8888888888888888,
              "#fdca26"
             ],
             [
              1,
              "#f0f921"
             ]
            ],
            "type": "contour"
           }
          ],
          "contourcarpet": [
           {
            "colorbar": {
             "outlinewidth": 0,
             "ticks": ""
            },
            "type": "contourcarpet"
           }
          ],
          "heatmap": [
           {
            "colorbar": {
             "outlinewidth": 0,
             "ticks": ""
            },
            "colorscale": [
             [
              0,
              "#0d0887"
             ],
             [
              0.1111111111111111,
              "#46039f"
             ],
             [
              0.2222222222222222,
              "#7201a8"
             ],
             [
              0.3333333333333333,
              "#9c179e"
             ],
             [
              0.4444444444444444,
              "#bd3786"
             ],
             [
              0.5555555555555556,
              "#d8576b"
             ],
             [
              0.6666666666666666,
              "#ed7953"
             ],
             [
              0.7777777777777778,
              "#fb9f3a"
             ],
             [
              0.8888888888888888,
              "#fdca26"
             ],
             [
              1,
              "#f0f921"
             ]
            ],
            "type": "heatmap"
           }
          ],
          "heatmapgl": [
           {
            "colorbar": {
             "outlinewidth": 0,
             "ticks": ""
            },
            "colorscale": [
             [
              0,
              "#0d0887"
             ],
             [
              0.1111111111111111,
              "#46039f"
             ],
             [
              0.2222222222222222,
              "#7201a8"
             ],
             [
              0.3333333333333333,
              "#9c179e"
             ],
             [
              0.4444444444444444,
              "#bd3786"
             ],
             [
              0.5555555555555556,
              "#d8576b"
             ],
             [
              0.6666666666666666,
              "#ed7953"
             ],
             [
              0.7777777777777778,
              "#fb9f3a"
             ],
             [
              0.8888888888888888,
              "#fdca26"
             ],
             [
              1,
              "#f0f921"
             ]
            ],
            "type": "heatmapgl"
           }
          ],
          "histogram": [
           {
            "marker": {
             "pattern": {
              "fillmode": "overlay",
              "size": 10,
              "solidity": 0.2
             }
            },
            "type": "histogram"
           }
          ],
          "histogram2d": [
           {
            "colorbar": {
             "outlinewidth": 0,
             "ticks": ""
            },
            "colorscale": [
             [
              0,
              "#0d0887"
             ],
             [
              0.1111111111111111,
              "#46039f"
             ],
             [
              0.2222222222222222,
              "#7201a8"
             ],
             [
              0.3333333333333333,
              "#9c179e"
             ],
             [
              0.4444444444444444,
              "#bd3786"
             ],
             [
              0.5555555555555556,
              "#d8576b"
             ],
             [
              0.6666666666666666,
              "#ed7953"
             ],
             [
              0.7777777777777778,
              "#fb9f3a"
             ],
             [
              0.8888888888888888,
              "#fdca26"
             ],
             [
              1,
              "#f0f921"
             ]
            ],
            "type": "histogram2d"
           }
          ],
          "histogram2dcontour": [
           {
            "colorbar": {
             "outlinewidth": 0,
             "ticks": ""
            },
            "colorscale": [
             [
              0,
              "#0d0887"
             ],
             [
              0.1111111111111111,
              "#46039f"
             ],
             [
              0.2222222222222222,
              "#7201a8"
             ],
             [
              0.3333333333333333,
              "#9c179e"
             ],
             [
              0.4444444444444444,
              "#bd3786"
             ],
             [
              0.5555555555555556,
              "#d8576b"
             ],
             [
              0.6666666666666666,
              "#ed7953"
             ],
             [
              0.7777777777777778,
              "#fb9f3a"
             ],
             [
              0.8888888888888888,
              "#fdca26"
             ],
             [
              1,
              "#f0f921"
             ]
            ],
            "type": "histogram2dcontour"
           }
          ],
          "mesh3d": [
           {
            "colorbar": {
             "outlinewidth": 0,
             "ticks": ""
            },
            "type": "mesh3d"
           }
          ],
          "parcoords": [
           {
            "line": {
             "colorbar": {
              "outlinewidth": 0,
              "ticks": ""
             }
            },
            "type": "parcoords"
           }
          ],
          "pie": [
           {
            "automargin": true,
            "type": "pie"
           }
          ],
          "scatter": [
           {
            "fillpattern": {
             "fillmode": "overlay",
             "size": 10,
             "solidity": 0.2
            },
            "type": "scatter"
           }
          ],
          "scatter3d": [
           {
            "line": {
             "colorbar": {
              "outlinewidth": 0,
              "ticks": ""
             }
            },
            "marker": {
             "colorbar": {
              "outlinewidth": 0,
              "ticks": ""
             }
            },
            "type": "scatter3d"
           }
          ],
          "scattercarpet": [
           {
            "marker": {
             "colorbar": {
              "outlinewidth": 0,
              "ticks": ""
             }
            },
            "type": "scattercarpet"
           }
          ],
          "scattergeo": [
           {
            "marker": {
             "colorbar": {
              "outlinewidth": 0,
              "ticks": ""
             }
            },
            "type": "scattergeo"
           }
          ],
          "scattergl": [
           {
            "marker": {
             "colorbar": {
              "outlinewidth": 0,
              "ticks": ""
             }
            },
            "type": "scattergl"
           }
          ],
          "scattermapbox": [
           {
            "marker": {
             "colorbar": {
              "outlinewidth": 0,
              "ticks": ""
             }
            },
            "type": "scattermapbox"
           }
          ],
          "scatterpolar": [
           {
            "marker": {
             "colorbar": {
              "outlinewidth": 0,
              "ticks": ""
             }
            },
            "type": "scatterpolar"
           }
          ],
          "scatterpolargl": [
           {
            "marker": {
             "colorbar": {
              "outlinewidth": 0,
              "ticks": ""
             }
            },
            "type": "scatterpolargl"
           }
          ],
          "scatterternary": [
           {
            "marker": {
             "colorbar": {
              "outlinewidth": 0,
              "ticks": ""
             }
            },
            "type": "scatterternary"
           }
          ],
          "surface": [
           {
            "colorbar": {
             "outlinewidth": 0,
             "ticks": ""
            },
            "colorscale": [
             [
              0,
              "#0d0887"
             ],
             [
              0.1111111111111111,
              "#46039f"
             ],
             [
              0.2222222222222222,
              "#7201a8"
             ],
             [
              0.3333333333333333,
              "#9c179e"
             ],
             [
              0.4444444444444444,
              "#bd3786"
             ],
             [
              0.5555555555555556,
              "#d8576b"
             ],
             [
              0.6666666666666666,
              "#ed7953"
             ],
             [
              0.7777777777777778,
              "#fb9f3a"
             ],
             [
              0.8888888888888888,
              "#fdca26"
             ],
             [
              1,
              "#f0f921"
             ]
            ],
            "type": "surface"
           }
          ],
          "table": [
           {
            "cells": {
             "fill": {
              "color": "#EBF0F8"
             },
             "line": {
              "color": "white"
             }
            },
            "header": {
             "fill": {
              "color": "#C8D4E3"
             },
             "line": {
              "color": "white"
             }
            },
            "type": "table"
           }
          ]
         },
         "layout": {
          "annotationdefaults": {
           "arrowcolor": "#2a3f5f",
           "arrowhead": 0,
           "arrowwidth": 1
          },
          "autotypenumbers": "strict",
          "coloraxis": {
           "colorbar": {
            "outlinewidth": 0,
            "ticks": ""
           }
          },
          "colorscale": {
           "diverging": [
            [
             0,
             "#8e0152"
            ],
            [
             0.1,
             "#c51b7d"
            ],
            [
             0.2,
             "#de77ae"
            ],
            [
             0.3,
             "#f1b6da"
            ],
            [
             0.4,
             "#fde0ef"
            ],
            [
             0.5,
             "#f7f7f7"
            ],
            [
             0.6,
             "#e6f5d0"
            ],
            [
             0.7,
             "#b8e186"
            ],
            [
             0.8,
             "#7fbc41"
            ],
            [
             0.9,
             "#4d9221"
            ],
            [
             1,
             "#276419"
            ]
           ],
           "sequential": [
            [
             0,
             "#0d0887"
            ],
            [
             0.1111111111111111,
             "#46039f"
            ],
            [
             0.2222222222222222,
             "#7201a8"
            ],
            [
             0.3333333333333333,
             "#9c179e"
            ],
            [
             0.4444444444444444,
             "#bd3786"
            ],
            [
             0.5555555555555556,
             "#d8576b"
            ],
            [
             0.6666666666666666,
             "#ed7953"
            ],
            [
             0.7777777777777778,
             "#fb9f3a"
            ],
            [
             0.8888888888888888,
             "#fdca26"
            ],
            [
             1,
             "#f0f921"
            ]
           ],
           "sequentialminus": [
            [
             0,
             "#0d0887"
            ],
            [
             0.1111111111111111,
             "#46039f"
            ],
            [
             0.2222222222222222,
             "#7201a8"
            ],
            [
             0.3333333333333333,
             "#9c179e"
            ],
            [
             0.4444444444444444,
             "#bd3786"
            ],
            [
             0.5555555555555556,
             "#d8576b"
            ],
            [
             0.6666666666666666,
             "#ed7953"
            ],
            [
             0.7777777777777778,
             "#fb9f3a"
            ],
            [
             0.8888888888888888,
             "#fdca26"
            ],
            [
             1,
             "#f0f921"
            ]
           ]
          },
          "colorway": [
           "#636efa",
           "#EF553B",
           "#00cc96",
           "#ab63fa",
           "#FFA15A",
           "#19d3f3",
           "#FF6692",
           "#B6E880",
           "#FF97FF",
           "#FECB52"
          ],
          "font": {
           "color": "#2a3f5f"
          },
          "geo": {
           "bgcolor": "white",
           "lakecolor": "white",
           "landcolor": "#E5ECF6",
           "showlakes": true,
           "showland": true,
           "subunitcolor": "white"
          },
          "hoverlabel": {
           "align": "left"
          },
          "hovermode": "closest",
          "mapbox": {
           "style": "light"
          },
          "paper_bgcolor": "white",
          "plot_bgcolor": "#E5ECF6",
          "polar": {
           "angularaxis": {
            "gridcolor": "white",
            "linecolor": "white",
            "ticks": ""
           },
           "bgcolor": "#E5ECF6",
           "radialaxis": {
            "gridcolor": "white",
            "linecolor": "white",
            "ticks": ""
           }
          },
          "scene": {
           "xaxis": {
            "backgroundcolor": "#E5ECF6",
            "gridcolor": "white",
            "gridwidth": 2,
            "linecolor": "white",
            "showbackground": true,
            "ticks": "",
            "zerolinecolor": "white"
           },
           "yaxis": {
            "backgroundcolor": "#E5ECF6",
            "gridcolor": "white",
            "gridwidth": 2,
            "linecolor": "white",
            "showbackground": true,
            "ticks": "",
            "zerolinecolor": "white"
           },
           "zaxis": {
            "backgroundcolor": "#E5ECF6",
            "gridcolor": "white",
            "gridwidth": 2,
            "linecolor": "white",
            "showbackground": true,
            "ticks": "",
            "zerolinecolor": "white"
           }
          },
          "shapedefaults": {
           "line": {
            "color": "#2a3f5f"
           }
          },
          "ternary": {
           "aaxis": {
            "gridcolor": "white",
            "linecolor": "white",
            "ticks": ""
           },
           "baxis": {
            "gridcolor": "white",
            "linecolor": "white",
            "ticks": ""
           },
           "bgcolor": "#E5ECF6",
           "caxis": {
            "gridcolor": "white",
            "linecolor": "white",
            "ticks": ""
           }
          },
          "title": {
           "x": 0.05
          },
          "xaxis": {
           "automargin": true,
           "gridcolor": "white",
           "linecolor": "white",
           "ticks": "",
           "title": {
            "standoff": 15
           },
           "zerolinecolor": "white",
           "zerolinewidth": 2
          },
          "yaxis": {
           "automargin": true,
           "gridcolor": "white",
           "linecolor": "white",
           "ticks": "",
           "title": {
            "standoff": 15
           },
           "zerolinecolor": "white",
           "zerolinewidth": 2
          }
         }
        },
        "title": {
         "text": "Revenue Predictions",
         "x": 0.5
        },
        "width": 1400,
        "xaxis": {
         "anchor": "y",
         "autorange": true,
         "domain": [
          0,
          1
         ],
         "range": [
          0,
          0.99
         ],
         "title": {
          "text": "Price"
         },
         "type": "linear"
        },
        "yaxis": {
         "anchor": "x",
         "autorange": true,
         "domain": [
          0,
          1
         ],
         "range": [
          -0.2755065930735931,
          0.2866052683982684
         ],
         "title": {
          "text": "Revenue"
         },
         "type": "linear"
        }
       }
      },
      "image/png": "[encoded data removed]"
     },
     "metadata": {},
     "output_type": "display_data"
    }
   ],
   "source": [
    "import plotly.graph_objects as go\n",
    "\n",
    "fig = px.line(revenues, x=\"price\", y=[\"true_revenue\", \"over_revenue\", \"under_revenue\"], title=\"Revenue Predictions\") \n",
    "labels={\"true_revenue\": \"ground truth revenue\", \"over_revenue\":\"revenue of over-approximation\", \"under_revenue\":\"revenue of under-approximation\"}\n",
    "set_names(fig, labels)\n",
    "\n",
    "for choice, d in zip([optimal_choice, over_choice, under_choice], fig.data[:3]):\n",
    "    print(choice)\n",
    "    # fig.add_traces(go.Scatter(x=choice.p, y=choice.r, \n",
    "    #                             mode='markers', \n",
    "    #                             showlegend=False, \n",
    "    #                             marker=dict(color=d.line.color)\n",
    "    #                             ))\n",
    "    fig.add_traces(go.Scatter(x=choice.p, y=choice.g, \n",
    "                                mode='markers', \n",
    "                                showlegend=False, \n",
    "                                marker=dict(color=d.line.color, size=15),\n",
    "                                ))\n",
    "\n",
    "# fig.add_scatter(x=choice.p.values, y=chioce.r.values, mode='markers', showlegend=False)\n",
    "# fig.update_traces(marker=dict(color='black'))\n",
    "\n",
    "fig.update_layout(font_family=\"Calibri\", font_size=24)\n",
    "fig.update_layout(yaxis_title=\"Revenue\", xaxis_title=\"Price\", title_x=0.5, width = 1400, height = 800)\n",
    "fig.show()"
   ]
  },
  {
   "cell_type": "code",
   "execution_count": 267,
   "metadata": {},
   "outputs": [
    {
     "name": "stdout",
     "output_type": "stream",
     "text": [
      "      p         g         r\n",
      "0  0.33  0.148137  0.148137\n",
      "     p      r     g\n",
      "0  0.5  0.125  0.25\n",
      "      p         r         g\n",
      "0  0.23  0.136367  0.078867\n"
     ]
    },
    {
     "data": {
      "application/vnd.plotly.v1+json": {
       "config": {
        "plotlyServerURL": "https://plot.ly"
       },
       "data": [
        {
         "hovertemplate": "variable=true revenue<br>price=%{x}<br>value=%{y}<extra></extra>",
         "legendgroup": "true revenue",
         "line": {
          "color": "#636efa",
          "dash": "solid"
         },
         "marker": {
          "symbol": "circle"
         },
         "mode": "lines",
         "name": "true revenue",
         "orientation": "v",
         "showlegend": true,
         "type": "scatter",
         "x": [
          0,
          0.01,
          0.02,
          0.03,
          0.04,
          0.05,
          0.06,
          0.07,
          0.08,
          0.09,
          0.1,
          0.11,
          0.12,
          0.13,
          0.14,
          0.15,
          0.16,
          0.17,
          0.18,
          0.19,
          0.2,
          0.21,
          0.22,
          0.23,
          0.24,
          0.25,
          0.26,
          0.27,
          0.28,
          0.29,
          0.3,
          0.31,
          0.32,
          0.33,
          0.34,
          0.35000000000000003,
          0.36,
          0.37,
          0.38,
          0.39,
          0.4,
          0.41000000000000003,
          0.42,
          0.43,
          0.44,
          0.45,
          0.46,
          0.47000000000000003,
          0.48,
          0.49,
          0.5,
          0.51,
          0.52,
          0.53,
          0.54,
          0.55,
          0.56,
          0.5700000000000001,
          0.58,
          0.59,
          0.6,
          0.61,
          0.62,
          0.63,
          0.64,
          0.65,
          0.66,
          0.67,
          0.68,
          0.6900000000000001,
          0.7000000000000001,
          0.71,
          0.72,
          0.73,
          0.74,
          0.75,
          0.76,
          0.77,
          0.78,
          0.79,
          0.8,
          0.81,
          0.8200000000000001,
          0.8300000000000001,
          0.84,
          0.85,
          0.86,
          0.87,
          0.88,
          0.89,
          0.9,
          0.91,
          0.92,
          0.93,
          0.9400000000000001,
          0.9500000000000001,
          0.96,
          0.97,
          0.98,
          0.99
         ],
         "xaxis": "x",
         "y": [
          0,
          0.009801,
          0.019208,
          0.028227,
          0.036864,
          0.045125,
          0.053015999999999994,
          0.060543,
          0.06771200000000001,
          0.074529,
          0.08100000000000002,
          0.087131,
          0.092928,
          0.09839700000000001,
          0.103544,
          0.10837499999999999,
          0.11289599999999998,
          0.117113,
          0.12103200000000001,
          0.12465900000000002,
          0.12800000000000003,
          0.131061,
          0.13384800000000002,
          0.136367,
          0.138624,
          0.140625,
          0.142376,
          0.14388299999999998,
          0.145152,
          0.14618899999999999,
          0.14699999999999996,
          0.14759099999999997,
          0.147968,
          0.148137,
          0.14810399999999996,
          0.14787499999999998,
          0.147456,
          0.146853,
          0.146072,
          0.145119,
          0.144,
          0.142721,
          0.14128800000000002,
          0.13970700000000003,
          0.13798400000000002,
          0.13612500000000002,
          0.134136,
          0.13202300000000003,
          0.12979200000000002,
          0.127449,
          0.125,
          0.12245099999999999,
          0.119808,
          0.117077,
          0.11426399999999998,
          0.11137499999999999,
          0.108416,
          0.10539299999999999,
          0.10231200000000001,
          0.09917900000000002,
          0.09600000000000002,
          0.092781,
          0.089528,
          0.08624699999999999,
          0.082944,
          0.07962499999999999,
          0.07629599999999999,
          0.07296299999999999,
          0.06963199999999999,
          0.06630899999999998,
          0.06299999999999997,
          0.059711000000000014,
          0.056448000000000005,
          0.053217,
          0.050024000000000006,
          0.046875,
          0.043776,
          0.04073299999999999,
          0.037751999999999994,
          0.03483899999999999,
          0.03199999999999999,
          0.029240999999999986,
          0.026567999999999984,
          0.02398699999999998,
          0.02150400000000001,
          0.019125000000000003,
          0.016856000000000003,
          0.014703,
          0.012672,
          0.010768999999999999,
          0.008999999999999996,
          0.007370999999999995,
          0.005887999999999994,
          0.004556999999999993,
          0.003383999999999994,
          0.002374999999999994,
          0.0015360000000000026,
          0.0008730000000000015,
          0.0003920000000000007,
          9.900000000000018e-05
         ],
         "yaxis": "y"
        },
        {
         "hovertemplate": "variable=revenue of over-approximation<br>price=%{x}<br>value=%{y}<extra></extra>",
         "legendgroup": "revenue of over-approximation",
         "line": {
          "color": "#EF553B",
          "dash": "solid"
         },
         "marker": {
          "symbol": "circle"
         },
         "mode": "lines",
         "name": "revenue of over-approximation",
         "orientation": "v",
         "showlegend": true,
         "type": "scatter",
         "x": [
          0,
          0.01,
          0.02,
          0.03,
          0.04,
          0.05,
          0.06,
          0.07,
          0.08,
          0.09,
          0.1,
          0.11,
          0.12,
          0.13,
          0.14,
          0.15,
          0.16,
          0.17,
          0.18,
          0.19,
          0.2,
          0.21,
          0.22,
          0.23,
          0.24,
          0.25,
          0.26,
          0.27,
          0.28,
          0.29,
          0.3,
          0.31,
          0.32,
          0.33,
          0.34,
          0.35000000000000003,
          0.36,
          0.37,
          0.38,
          0.39,
          0.4,
          0.41000000000000003,
          0.42,
          0.43,
          0.44,
          0.45,
          0.46,
          0.47000000000000003,
          0.48,
          0.49,
          0.5,
          0.51,
          0.52,
          0.53,
          0.54,
          0.55,
          0.56,
          0.5700000000000001,
          0.58,
          0.59,
          0.6,
          0.61,
          0.62,
          0.63,
          0.64,
          0.65,
          0.66,
          0.67,
          0.68,
          0.6900000000000001,
          0.7000000000000001,
          0.71,
          0.72,
          0.73,
          0.74,
          0.75,
          0.76,
          0.77,
          0.78,
          0.79,
          0.8,
          0.81,
          0.8200000000000001,
          0.8300000000000001,
          0.84,
          0.85,
          0.86,
          0.87,
          0.88,
          0.89,
          0.9,
          0.91,
          0.92,
          0.93,
          0.9400000000000001,
          0.9500000000000001,
          0.96,
          0.97,
          0.98,
          0.99
         ],
         "xaxis": "x",
         "y": [
          0,
          0.012301,
          0.024208,
          0.035727,
          0.046864,
          0.057624999999999996,
          0.068016,
          0.078043,
          0.087712,
          0.097029,
          0.10600000000000001,
          0.114631,
          0.122928,
          0.13089699999999999,
          0.138544,
          0.14587499999999998,
          0.15289599999999998,
          0.159613,
          0.166032,
          0.17215900000000003,
          0.17800000000000005,
          0.183561,
          0.18884800000000002,
          0.193867,
          0.198624,
          0.203125,
          0.207376,
          0.211383,
          0.215152,
          0.218689,
          0.222,
          0.22509099999999999,
          0.22796799999999998,
          0.23063699999999995,
          0.23310399999999998,
          0.23537499999999997,
          0.23745599999999997,
          0.239353,
          0.24107200000000004,
          0.242619,
          0.244,
          0.245221,
          0.246288,
          0.24720700000000004,
          0.24798400000000004,
          0.248625,
          0.24913600000000005,
          0.24952300000000002,
          0.249792,
          0.249949,
          0.25,
          0.249951,
          0.249808,
          0.249577,
          0.24926399999999999,
          0.24887499999999999,
          0.24841600000000003,
          0.247893,
          0.24731199999999998,
          0.246679,
          0.246,
          0.245281,
          0.24452799999999997,
          0.24374700000000002,
          0.242944,
          0.242125,
          0.241296,
          0.240463,
          0.23963199999999998,
          0.238809,
          0.238,
          0.237211,
          0.23644800000000002,
          0.235717,
          0.23502399999999998,
          0.234375,
          0.23377599999999998,
          0.233233,
          0.23275200000000001,
          0.232339,
          0.23199999999999998,
          0.23174099999999997,
          0.231568,
          0.231487,
          0.231504,
          0.231625,
          0.231856,
          0.23220300000000002,
          0.23267200000000002,
          0.233269,
          0.234,
          0.234871,
          0.23588800000000001,
          0.23705700000000002,
          0.238384,
          0.23987500000000003,
          0.24153599999999997,
          0.243373,
          0.245392,
          0.24759899999999999
         ],
         "yaxis": "y"
        },
        {
         "hovertemplate": "variable=revenue of under-approximation<br>price=%{x}<br>value=%{y}<extra></extra>",
         "legendgroup": "revenue of under-approximation",
         "line": {
          "color": "#00cc96",
          "dash": "solid"
         },
         "marker": {
          "symbol": "circle"
         },
         "mode": "lines",
         "name": "revenue of under-approximation",
         "orientation": "v",
         "showlegend": true,
         "type": "scatter",
         "x": [
          0,
          0.01,
          0.02,
          0.03,
          0.04,
          0.05,
          0.06,
          0.07,
          0.08,
          0.09,
          0.1,
          0.11,
          0.12,
          0.13,
          0.14,
          0.15,
          0.16,
          0.17,
          0.18,
          0.19,
          0.2,
          0.21,
          0.22,
          0.23,
          0.24,
          0.25,
          0.26,
          0.27,
          0.28,
          0.29,
          0.3,
          0.31,
          0.32,
          0.33,
          0.34,
          0.35000000000000003,
          0.36,
          0.37,
          0.38,
          0.39,
          0.4,
          0.41000000000000003,
          0.42,
          0.43,
          0.44,
          0.45,
          0.46,
          0.47000000000000003,
          0.48,
          0.49,
          0.5,
          0.51,
          0.52,
          0.53,
          0.54,
          0.55,
          0.56,
          0.5700000000000001,
          0.58,
          0.59,
          0.6,
          0.61,
          0.62,
          0.63,
          0.64,
          0.65,
          0.66,
          0.67,
          0.68,
          0.6900000000000001,
          0.7000000000000001,
          0.71,
          0.72,
          0.73,
          0.74,
          0.75,
          0.76,
          0.77,
          0.78,
          0.79,
          0.8,
          0.81,
          0.8200000000000001,
          0.8300000000000001,
          0.84,
          0.85,
          0.86,
          0.87,
          0.88,
          0.89,
          0.9,
          0.91,
          0.92,
          0.93,
          0.9400000000000001,
          0.9500000000000001,
          0.96,
          0.97,
          0.98,
          0.99
         ],
         "xaxis": "x",
         "y": [
          0,
          0.007301,
          0.014207999999999998,
          0.020727,
          0.026864,
          0.032625,
          0.038015999999999994,
          0.043043,
          0.047712000000000004,
          0.052029000000000006,
          0.05600000000000001,
          0.059631,
          0.062928,
          0.06589700000000001,
          0.068544,
          0.07087499999999998,
          0.07289599999999999,
          0.074613,
          0.07603200000000002,
          0.07715900000000002,
          0.07800000000000003,
          0.07856100000000002,
          0.07884800000000002,
          0.07886699999999999,
          0.078624,
          0.078125,
          0.077376,
          0.07638299999999999,
          0.075152,
          0.07368899999999999,
          0.07199999999999998,
          0.07009099999999997,
          0.06796799999999997,
          0.06563699999999997,
          0.06310399999999997,
          0.06037499999999996,
          0.05745600000000001,
          0.05435300000000001,
          0.051072000000000006,
          0.047618999999999995,
          0.044,
          0.040220999999999986,
          0.036288000000000036,
          0.032207000000000034,
          0.02798400000000002,
          0.02362500000000002,
          0.019136000000000014,
          0.014523000000000019,
          0.009792000000000014,
          0.0049489999999999985,
          0,
          -0.00504900000000001,
          -0.010192000000000003,
          -0.015423000000000008,
          -0.020736000000000025,
          -0.026125000000000027,
          -0.03158400000000002,
          -0.03710700000000003,
          -0.04268799999999998,
          -0.04832099999999998,
          -0.05399999999999998,
          -0.05971899999999999,
          -0.065472,
          -0.07125300000000001,
          -0.077056,
          -0.082875,
          -0.08870400000000002,
          -0.09453700000000002,
          -0.10036800000000003,
          -0.10619100000000004,
          -0.11200000000000003,
          -0.11778899999999999,
          -0.12355199999999998,
          -0.12928299999999998,
          -0.134976,
          -0.140625,
          -0.14622400000000002,
          -0.151767,
          -0.157248,
          -0.16266100000000003,
          -0.16800000000000004,
          -0.17325900000000005,
          -0.17843200000000004,
          -0.18351300000000004,
          -0.188496,
          -0.193375,
          -0.198144,
          -0.202797,
          -0.207328,
          -0.211731,
          -0.216,
          -0.22012900000000002,
          -0.22411200000000003,
          -0.22794300000000003,
          -0.23161600000000002,
          -0.235125,
          -0.238464,
          -0.24162699999999998,
          -0.244608,
          -0.247401
         ],
         "yaxis": "y"
        },
        {
         "line": {
          "dash": "dot"
         },
         "marker": {
          "color": "#636efa",
          "size": 15
         },
         "mode": "lines+markers",
         "showlegend": false,
         "type": "scatter",
         "x": [
          0.33,
          0.33
         ],
         "y": [
          0.148137,
          0.148137
         ]
        },
        {
         "line": {
          "dash": "dot"
         },
         "marker": {
          "color": "#EF553B",
          "size": 15
         },
         "mode": "lines+markers",
         "showlegend": false,
         "type": "scatter",
         "x": [
          0.5,
          0.5
         ],
         "y": [
          0.125,
          0.25
         ]
        },
        {
         "line": {
          "dash": "dot"
         },
         "marker": {
          "color": "#00cc96",
          "size": 15
         },
         "mode": "lines+markers",
         "showlegend": false,
         "type": "scatter",
         "x": [
          0.23,
          0.23
         ],
         "y": [
          0.136367,
          0.07886699999999999
         ]
        }
       ],
       "layout": {
        "font": {
         "family": "Calibri",
         "size": 24
        },
        "height": 800,
        "legend": {
         "title": {
          "text": "variable"
         },
         "tracegroupgap": 0
        },
        "template": {
         "data": {
          "bar": [
           {
            "error_x": {
             "color": "#2a3f5f"
            },
            "error_y": {
             "color": "#2a3f5f"
            },
            "marker": {
             "line": {
              "color": "#E5ECF6",
              "width": 0.5
             },
             "pattern": {
              "fillmode": "overlay",
              "size": 10,
              "solidity": 0.2
             }
            },
            "type": "bar"
           }
          ],
          "barpolar": [
           {
            "marker": {
             "line": {
              "color": "#E5ECF6",
              "width": 0.5
             },
             "pattern": {
              "fillmode": "overlay",
              "size": 10,
              "solidity": 0.2
             }
            },
            "type": "barpolar"
           }
          ],
          "carpet": [
           {
            "aaxis": {
             "endlinecolor": "#2a3f5f",
             "gridcolor": "white",
             "linecolor": "white",
             "minorgridcolor": "white",
             "startlinecolor": "#2a3f5f"
            },
            "baxis": {
             "endlinecolor": "#2a3f5f",
             "gridcolor": "white",
             "linecolor": "white",
             "minorgridcolor": "white",
             "startlinecolor": "#2a3f5f"
            },
            "type": "carpet"
           }
          ],
          "choropleth": [
           {
            "colorbar": {
             "outlinewidth": 0,
             "ticks": ""
            },
            "type": "choropleth"
           }
          ],
          "contour": [
           {
            "colorbar": {
             "outlinewidth": 0,
             "ticks": ""
            },
            "colorscale": [
             [
              0,
              "#0d0887"
             ],
             [
              0.1111111111111111,
              "#46039f"
             ],
             [
              0.2222222222222222,
              "#7201a8"
             ],
             [
              0.3333333333333333,
              "#9c179e"
             ],
             [
              0.4444444444444444,
              "#bd3786"
             ],
             [
              0.5555555555555556,
              "#d8576b"
             ],
             [
              0.6666666666666666,
              "#ed7953"
             ],
             [
              0.7777777777777778,
              "#fb9f3a"
             ],
             [
              0.8888888888888888,
              "#fdca26"
             ],
             [
              1,
              "#f0f921"
             ]
            ],
            "type": "contour"
           }
          ],
          "contourcarpet": [
           {
            "colorbar": {
             "outlinewidth": 0,
             "ticks": ""
            },
            "type": "contourcarpet"
           }
          ],
          "heatmap": [
           {
            "colorbar": {
             "outlinewidth": 0,
             "ticks": ""
            },
            "colorscale": [
             [
              0,
              "#0d0887"
             ],
             [
              0.1111111111111111,
              "#46039f"
             ],
             [
              0.2222222222222222,
              "#7201a8"
             ],
             [
              0.3333333333333333,
              "#9c179e"
             ],
             [
              0.4444444444444444,
              "#bd3786"
             ],
             [
              0.5555555555555556,
              "#d8576b"
             ],
             [
              0.6666666666666666,
              "#ed7953"
             ],
             [
              0.7777777777777778,
              "#fb9f3a"
             ],
             [
              0.8888888888888888,
              "#fdca26"
             ],
             [
              1,
              "#f0f921"
             ]
            ],
            "type": "heatmap"
           }
          ],
          "heatmapgl": [
           {
            "colorbar": {
             "outlinewidth": 0,
             "ticks": ""
            },
            "colorscale": [
             [
              0,
              "#0d0887"
             ],
             [
              0.1111111111111111,
              "#46039f"
             ],
             [
              0.2222222222222222,
              "#7201a8"
             ],
             [
              0.3333333333333333,
              "#9c179e"
             ],
             [
              0.4444444444444444,
              "#bd3786"
             ],
             [
              0.5555555555555556,
              "#d8576b"
             ],
             [
              0.6666666666666666,
              "#ed7953"
             ],
             [
              0.7777777777777778,
              "#fb9f3a"
             ],
             [
              0.8888888888888888,
              "#fdca26"
             ],
             [
              1,
              "#f0f921"
             ]
            ],
            "type": "heatmapgl"
           }
          ],
          "histogram": [
           {
            "marker": {
             "pattern": {
              "fillmode": "overlay",
              "size": 10,
              "solidity": 0.2
             }
            },
            "type": "histogram"
           }
          ],
          "histogram2d": [
           {
            "colorbar": {
             "outlinewidth": 0,
             "ticks": ""
            },
            "colorscale": [
             [
              0,
              "#0d0887"
             ],
             [
              0.1111111111111111,
              "#46039f"
             ],
             [
              0.2222222222222222,
              "#7201a8"
             ],
             [
              0.3333333333333333,
              "#9c179e"
             ],
             [
              0.4444444444444444,
              "#bd3786"
             ],
             [
              0.5555555555555556,
              "#d8576b"
             ],
             [
              0.6666666666666666,
              "#ed7953"
             ],
             [
              0.7777777777777778,
              "#fb9f3a"
             ],
             [
              0.8888888888888888,
              "#fdca26"
             ],
             [
              1,
              "#f0f921"
             ]
            ],
            "type": "histogram2d"
           }
          ],
          "histogram2dcontour": [
           {
            "colorbar": {
             "outlinewidth": 0,
             "ticks": ""
            },
            "colorscale": [
             [
              0,
              "#0d0887"
             ],
             [
              0.1111111111111111,
              "#46039f"
             ],
             [
              0.2222222222222222,
              "#7201a8"
             ],
             [
              0.3333333333333333,
              "#9c179e"
             ],
             [
              0.4444444444444444,
              "#bd3786"
             ],
             [
              0.5555555555555556,
              "#d8576b"
             ],
             [
              0.6666666666666666,
              "#ed7953"
             ],
             [
              0.7777777777777778,
              "#fb9f3a"
             ],
             [
              0.8888888888888888,
              "#fdca26"
             ],
             [
              1,
              "#f0f921"
             ]
            ],
            "type": "histogram2dcontour"
           }
          ],
          "mesh3d": [
           {
            "colorbar": {
             "outlinewidth": 0,
             "ticks": ""
            },
            "type": "mesh3d"
           }
          ],
          "parcoords": [
           {
            "line": {
             "colorbar": {
              "outlinewidth": 0,
              "ticks": ""
             }
            },
            "type": "parcoords"
           }
          ],
          "pie": [
           {
            "automargin": true,
            "type": "pie"
           }
          ],
          "scatter": [
           {
            "fillpattern": {
             "fillmode": "overlay",
             "size": 10,
             "solidity": 0.2
            },
            "type": "scatter"
           }
          ],
          "scatter3d": [
           {
            "line": {
             "colorbar": {
              "outlinewidth": 0,
              "ticks": ""
             }
            },
            "marker": {
             "colorbar": {
              "outlinewidth": 0,
              "ticks": ""
             }
            },
            "type": "scatter3d"
           }
          ],
          "scattercarpet": [
           {
            "marker": {
             "colorbar": {
              "outlinewidth": 0,
              "ticks": ""
             }
            },
            "type": "scattercarpet"
           }
          ],
          "scattergeo": [
           {
            "marker": {
             "colorbar": {
              "outlinewidth": 0,
              "ticks": ""
             }
            },
            "type": "scattergeo"
           }
          ],
          "scattergl": [
           {
            "marker": {
             "colorbar": {
              "outlinewidth": 0,
              "ticks": ""
             }
            },
            "type": "scattergl"
           }
          ],
          "scattermapbox": [
           {
            "marker": {
             "colorbar": {
              "outlinewidth": 0,
              "ticks": ""
             }
            },
            "type": "scattermapbox"
           }
          ],
          "scatterpolar": [
           {
            "marker": {
             "colorbar": {
              "outlinewidth": 0,
              "ticks": ""
             }
            },
            "type": "scatterpolar"
           }
          ],
          "scatterpolargl": [
           {
            "marker": {
             "colorbar": {
              "outlinewidth": 0,
              "ticks": ""
             }
            },
            "type": "scatterpolargl"
           }
          ],
          "scatterternary": [
           {
            "marker": {
             "colorbar": {
              "outlinewidth": 0,
              "ticks": ""
             }
            },
            "type": "scatterternary"
           }
          ],
          "surface": [
           {
            "colorbar": {
             "outlinewidth": 0,
             "ticks": ""
            },
            "colorscale": [
             [
              0,
              "#0d0887"
             ],
             [
              0.1111111111111111,
              "#46039f"
             ],
             [
              0.2222222222222222,
              "#7201a8"
             ],
             [
              0.3333333333333333,
              "#9c179e"
             ],
             [
              0.4444444444444444,
              "#bd3786"
             ],
             [
              0.5555555555555556,
              "#d8576b"
             ],
             [
              0.6666666666666666,
              "#ed7953"
             ],
             [
              0.7777777777777778,
              "#fb9f3a"
             ],
             [
              0.8888888888888888,
              "#fdca26"
             ],
             [
              1,
              "#f0f921"
             ]
            ],
            "type": "surface"
           }
          ],
          "table": [
           {
            "cells": {
             "fill": {
              "color": "#EBF0F8"
             },
             "line": {
              "color": "white"
             }
            },
            "header": {
             "fill": {
              "color": "#C8D4E3"
             },
             "line": {
              "color": "white"
             }
            },
            "type": "table"
           }
          ]
         },
         "layout": {
          "annotationdefaults": {
           "arrowcolor": "#2a3f5f",
           "arrowhead": 0,
           "arrowwidth": 1
          },
          "autotypenumbers": "strict",
          "coloraxis": {
           "colorbar": {
            "outlinewidth": 0,
            "ticks": ""
           }
          },
          "colorscale": {
           "diverging": [
            [
             0,
             "#8e0152"
            ],
            [
             0.1,
             "#c51b7d"
            ],
            [
             0.2,
             "#de77ae"
            ],
            [
             0.3,
             "#f1b6da"
            ],
            [
             0.4,
             "#fde0ef"
            ],
            [
             0.5,
             "#f7f7f7"
            ],
            [
             0.6,
             "#e6f5d0"
            ],
            [
             0.7,
             "#b8e186"
            ],
            [
             0.8,
             "#7fbc41"
            ],
            [
             0.9,
             "#4d9221"
            ],
            [
             1,
             "#276419"
            ]
           ],
           "sequential": [
            [
             0,
             "#0d0887"
            ],
            [
             0.1111111111111111,
             "#46039f"
            ],
            [
             0.2222222222222222,
             "#7201a8"
            ],
            [
             0.3333333333333333,
             "#9c179e"
            ],
            [
             0.4444444444444444,
             "#bd3786"
            ],
            [
             0.5555555555555556,
             "#d8576b"
            ],
            [
             0.6666666666666666,
             "#ed7953"
            ],
            [
             0.7777777777777778,
             "#fb9f3a"
            ],
            [
             0.8888888888888888,
             "#fdca26"
            ],
            [
             1,
             "#f0f921"
            ]
           ],
           "sequentialminus": [
            [
             0,
             "#0d0887"
            ],
            [
             0.1111111111111111,
             "#46039f"
            ],
            [
             0.2222222222222222,
             "#7201a8"
            ],
            [
             0.3333333333333333,
             "#9c179e"
            ],
            [
             0.4444444444444444,
             "#bd3786"
            ],
            [
             0.5555555555555556,
             "#d8576b"
            ],
            [
             0.6666666666666666,
             "#ed7953"
            ],
            [
             0.7777777777777778,
             "#fb9f3a"
            ],
            [
             0.8888888888888888,
             "#fdca26"
            ],
            [
             1,
             "#f0f921"
            ]
           ]
          },
          "colorway": [
           "#636efa",
           "#EF553B",
           "#00cc96",
           "#ab63fa",
           "#FFA15A",
           "#19d3f3",
           "#FF6692",
           "#B6E880",
           "#FF97FF",
           "#FECB52"
          ],
          "font": {
           "color": "#2a3f5f"
          },
          "geo": {
           "bgcolor": "white",
           "lakecolor": "white",
           "landcolor": "#E5ECF6",
           "showlakes": true,
           "showland": true,
           "subunitcolor": "white"
          },
          "hoverlabel": {
           "align": "left"
          },
          "hovermode": "closest",
          "mapbox": {
           "style": "light"
          },
          "paper_bgcolor": "white",
          "plot_bgcolor": "#E5ECF6",
          "polar": {
           "angularaxis": {
            "gridcolor": "white",
            "linecolor": "white",
            "ticks": ""
           },
           "bgcolor": "#E5ECF6",
           "radialaxis": {
            "gridcolor": "white",
            "linecolor": "white",
            "ticks": ""
           }
          },
          "scene": {
           "xaxis": {
            "backgroundcolor": "#E5ECF6",
            "gridcolor": "white",
            "gridwidth": 2,
            "linecolor": "white",
            "showbackground": true,
            "ticks": "",
            "zerolinecolor": "white"
           },
           "yaxis": {
            "backgroundcolor": "#E5ECF6",
            "gridcolor": "white",
            "gridwidth": 2,
            "linecolor": "white",
            "showbackground": true,
            "ticks": "",
            "zerolinecolor": "white"
           },
           "zaxis": {
            "backgroundcolor": "#E5ECF6",
            "gridcolor": "white",
            "gridwidth": 2,
            "linecolor": "white",
            "showbackground": true,
            "ticks": "",
            "zerolinecolor": "white"
           }
          },
          "shapedefaults": {
           "line": {
            "color": "#2a3f5f"
           }
          },
          "ternary": {
           "aaxis": {
            "gridcolor": "white",
            "linecolor": "white",
            "ticks": ""
           },
           "baxis": {
            "gridcolor": "white",
            "linecolor": "white",
            "ticks": ""
           },
           "bgcolor": "#E5ECF6",
           "caxis": {
            "gridcolor": "white",
            "linecolor": "white",
            "ticks": ""
           }
          },
          "title": {
           "x": 0.05
          },
          "xaxis": {
           "automargin": true,
           "gridcolor": "white",
           "linecolor": "white",
           "ticks": "",
           "title": {
            "standoff": 15
           },
           "zerolinecolor": "white",
           "zerolinewidth": 2
          },
          "yaxis": {
           "automargin": true,
           "gridcolor": "white",
           "linecolor": "white",
           "ticks": "",
           "title": {
            "standoff": 15
           },
           "zerolinecolor": "white",
           "zerolinewidth": 2
          }
         }
        },
        "title": {
         "text": "Revenue Predictions",
         "x": 0.5
        },
        "width": 1400,
        "xaxis": {
         "anchor": "y",
         "autorange": true,
         "domain": [
          0,
          1
         ],
         "range": [
          0,
          0.99
         ],
         "title": {
          "text": "Price"
         },
         "type": "linear"
        },
        "yaxis": {
         "anchor": "x",
         "autorange": true,
         "domain": [
          0,
          1
         ],
         "range": [
          -0.2755065930735931,
          0.2866052683982684
         ],
         "title": {
          "text": "Revenue"
         },
         "type": "linear"
        }
       }
      },
      "image/png": "[encoded data removed]"
     },
     "metadata": {},
     "output_type": "display_data"
    }
   ],
   "source": [
    "import plotly.graph_objects as go\n",
    "\n",
    "fig = px.line(revenues, x=\"price\", y=[\"true_revenue\", \"over_revenue\", \"under_revenue\"], title=\"Revenue Predictions\") \n",
    "labels={\"true_revenue\": \"true revenue\", \"over_revenue\":\"revenue of over-approximation\", \"under_revenue\":\"revenue of under-approximation\"}\n",
    "set_names(fig, labels)\n",
    "\n",
    "for choice, d in zip([optimal_choice, over_choice, under_choice], fig.data[:3]):\n",
    "    print(choice)\n",
    "    fig.add_trace(go.Scatter(x=[choice.p[0], choice.p[0]], y=[choice.r[0], choice.g[0]],\n",
    "                                mode='lines+markers', \n",
    "                                showlegend=False, \n",
    "                                marker=dict(color=d.line.color, size=15),\n",
    "                                line=dict(dash='dot')\n",
    "                                ))\n",
    "\n",
    "fig.update_layout(font_family=\"Calibri\", font_size=24)\n",
    "fig.update_layout(yaxis_title=\"Revenue\", xaxis_title=\"Price\", title_x=0.5, width = 1400, height = 800)\n",
    "fig.show()"
   ]
  },
  {
   "cell_type": "code",
   "execution_count": 241,
   "metadata": {},
   "outputs": [
    {
     "name": "stdout",
     "output_type": "stream",
     "text": [
      "Optimal Decision: 0.33, with Revenue: 0.148137\n",
      "Under-approximation Decision: 0.23, with Revenue: 0.136367\n",
      "Over-approximation Decision: 0.5, with Revenue: 0.125\n"
     ]
    }
   ],
   "source": [
    "print(\"Optimal Decision: {}, with Revenue: {}\".format(optimal_price, optimal_revenue))\n",
    "print(\"Under-approximation Decision: {}, with Revenue: {}\".format(under_price, under_revenue))\n",
    "print(\"Over-approximation Decision: {}, with Revenue: {}\".format(over_price, over_revenue))"
   ]
  },
  {
   "cell_type": "code",
   "execution_count": null,
   "metadata": {},
   "outputs": [],
   "source": []
  }
 ],
 "metadata": {
  "kernelspec": {
   "display_name": "Python 3 (ipykernel)",
   "language": "python",
   "name": "python3"
  },
  "language_info": {
   "codemirror_mode": {
    "name": "ipython",
    "version": 3
   },
   "file_extension": ".py",
   "mimetype": "text/x-python",
   "name": "python",
   "nbconvert_exporter": "python",
   "pygments_lexer": "ipython3",
   "version": "3.8.12"
  }
 },
 "nbformat": 4,
 "nbformat_minor": 4
}
